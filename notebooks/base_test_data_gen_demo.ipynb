{
  "cells": [
    {
      "cell_type": "markdown",
      "source": [
        "# Test Data Generation: Base-Truth Tables Demonstration Notebook\r\n",
        "\r\n",
        "This OEA test data generation notebook illustrates use of the OEA_py and base_test_data_gen_py python classes for creating and developing base-truth table test data in stage1.\r\n",
        "\r\n",
        "Use the main function outlined in the base_test_data_gen_py class notebook ```gen_base_tables(numstudents, numschools, numenroll, hed_numcourses, ed_level)``` to create test data for the base-truth tables.\r\n",
        "\r\n",
        "Refer to the class notebook for understanding/editing functionality, options, and generation processes."
      ],
      "metadata": {
        "nteract": {
          "transient": {
            "deleting": false
          }
        }
      }
    },
    {
      "cell_type": "code",
      "source": [
        "%run OEA_py"
      ],
      "outputs": [
        {
          "output_type": "display_data",
          "data": {
            "application/vnd.livy.statement-meta+json": {
              "spark_pool": null,
              "session_id": "7",
              "statement_id": -1,
              "state": "finished",
              "livy_statement_state": "available",
              "queued_time": "2023-02-02T21:53:30.3473386Z",
              "session_start_time": null,
              "execution_start_time": "2023-02-02T21:57:11.7630465Z",
              "execution_finish_time": "2023-02-02T21:57:11.7632811Z",
              "spark_jobs": null
            },
            "text/plain": "StatementMeta(, 7, -1, Finished, Available)"
          },
          "metadata": {}
        },
        {
          "output_type": "stream",
          "name": "stdout",
          "text": [
            "2023-02-02 21:57:11,117 - OEA - INFO - Now using workspace: dev\n2023-02-02 21:57:11,119 - OEA - INFO - OEA initialized.\n"
          ]
        }
      ],
      "execution_count": 23,
      "metadata": {
        "jupyter": {
          "source_hidden": false,
          "outputs_hidden": false
        },
        "nteract": {
          "transient": {
            "deleting": false
          }
        }
      }
    },
    {
      "cell_type": "code",
      "source": [
        "# set the workspace (this determines where in the data lake you'll be writing to and reading from).\r\n",
        "# You can work in 'dev', 'prod', or a sandbox with any name you choose.\r\n",
        "# For example, Sam the developer can create a 'sam' workspace and expect to find his datasets in the data lake under oea/sandboxes/sam\r\n",
        "oea.set_workspace('dev')"
      ],
      "outputs": [
        {
          "output_type": "display_data",
          "data": {
            "application/vnd.livy.statement-meta+json": {
              "spark_pool": "spark3p2medTDG",
              "session_id": "7",
              "statement_id": 2,
              "state": "finished",
              "livy_statement_state": "available",
              "queued_time": "2023-02-02T21:53:35.9544053Z",
              "session_start_time": null,
              "execution_start_time": "2023-02-02T21:57:11.8776648Z",
              "execution_finish_time": "2023-02-02T21:57:12.0470034Z",
              "spark_jobs": null
            },
            "text/plain": "StatementMeta(spark3p2medTDG, 7, 2, Finished, Available)"
          },
          "metadata": {}
        },
        {
          "output_type": "stream",
          "name": "stdout",
          "text": [
            "2023-02-02 21:57:11,859 - OEA - INFO - Now using workspace: dev\n"
          ]
        }
      ],
      "execution_count": 24,
      "metadata": {
        "jupyter": {
          "source_hidden": false,
          "outputs_hidden": false
        },
        "nteract": {
          "transient": {
            "deleting": false
          }
        }
      }
    },
    {
      "cell_type": "code",
      "source": [
        "%run /base_test_data_gen_py"
      ],
      "outputs": [
        {
          "output_type": "display_data",
          "data": {
            "application/vnd.livy.statement-meta+json": {
              "spark_pool": null,
              "session_id": "7",
              "statement_id": -1,
              "state": "finished",
              "livy_statement_state": "available",
              "queued_time": "2023-02-03T00:10:28.6110368Z",
              "session_start_time": null,
              "execution_start_time": "2023-02-03T00:10:29.1115605Z",
              "execution_finish_time": "2023-02-03T00:10:29.111835Z",
              "spark_jobs": null
            },
            "text/plain": "StatementMeta(, 7, -1, Finished, Available)"
          },
          "metadata": {}
        }
      ],
      "execution_count": 95,
      "metadata": {
        "jupyter": {
          "source_hidden": false,
          "outputs_hidden": false
        },
        "nteract": {
          "transient": {
            "deleting": false
          }
        }
      }
    },
    {
      "cell_type": "code",
      "source": [
        "datagen = TestDataGen_BaseTables()"
      ],
      "outputs": [
        {
          "output_type": "display_data",
          "data": {
            "application/vnd.livy.statement-meta+json": {
              "spark_pool": "spark3p2medTDG",
              "session_id": "7",
              "statement_id": 74,
              "state": "finished",
              "livy_statement_state": "available",
              "queued_time": "2023-02-03T00:10:29.9923974Z",
              "session_start_time": null,
              "execution_start_time": "2023-02-03T00:10:30.1049689Z",
              "execution_finish_time": "2023-02-03T00:10:30.2682131Z",
              "spark_jobs": null
            },
            "text/plain": "StatementMeta(spark3p2medTDG, 7, 74, Finished, Available)"
          },
          "metadata": {}
        }
      ],
      "execution_count": 96,
      "metadata": {
        "jupyter": {
          "source_hidden": false,
          "outputs_hidden": false
        },
        "nteract": {
          "transient": {
            "deleting": false
          }
        }
      }
    },
    {
      "cell_type": "code",
      "source": [
        "# Read comments for generation options.\r\n",
        "\r\n",
        "education_level = 'k12' # NOTE: choose k12 or hed. k12 = generating K-12 test data, hed = generating Higher Education test data\r\n",
        "num_students = 300 # NOTE: number of students to generate\r\n",
        "num_schools = 5 # NOTE: number of schools to generate (k12 min allowed value: 4, hed max allowed value: 3)\r\n",
        "hed_num_courses = 0 # NOTE: ONLY for hed. number of courses per school to generate (max allowed value: 21)\r\n",
        "num_sections_enrolled_per_student = 6 # NOTE: number of classes each middle and high school student, or higher ed. student, is to be enrolled in (max allowed value: 21)\r\n",
        "\r\n",
        "datagen.gen_base_tables(numstudents=num_students, numschools=num_schools, numenroll=num_sections_enrolled_per_student, hed_numcourses=hed_num_courses, ed_level=education_level)"
      ],
      "outputs": [
        {
          "output_type": "display_data",
          "data": {
            "application/vnd.livy.statement-meta+json": {
              "spark_pool": "spark3p2medTDG",
              "session_id": "7",
              "statement_id": 75,
              "state": "finished",
              "livy_statement_state": "available",
              "queued_time": "2023-02-03T00:10:31.2575677Z",
              "session_start_time": null,
              "execution_start_time": "2023-02-03T00:10:31.4016377Z",
              "execution_finish_time": "2023-02-03T00:10:46.1868013Z",
              "spark_jobs": null
            },
            "text/plain": "StatementMeta(spark3p2medTDG, 7, 75, Finished, Available)"
          },
          "metadata": {}
        }
      ],
      "execution_count": 97,
      "metadata": {
        "jupyter": {
          "source_hidden": false,
          "outputs_hidden": false
        },
        "nteract": {
          "transient": {
            "deleting": false
          }
        }
      }
    },
    {
      "cell_type": "markdown",
      "source": [
        "## Demo of How to Read-in and Check the Created Base-Truth Tables\r\n",
        "\r\n",
        "Code-blocks are broken up into tests per each table created:\r\n",
        " 1. **base_students**\r\n",
        " 2. **base_schools**\r\n",
        " 3. **base_courses**\r\n",
        " 4. **base_sections**\r\n",
        " 5. **base_enrollment**"
      ],
      "metadata": {
        "nteract": {
          "transient": {
            "deleting": false
          }
        }
      }
    },
    {
      "cell_type": "code",
      "source": [
        "# 1) base_students\r\n",
        "dfStudents = oea.load_csv('stage1/Transactional/test_data/v0.1/base_students/snapshot_batch_data/*/*.csv', header=True)\r\n",
        "print('Number of students generated (should be ' + str(num_students) + '):')\r\n",
        "print(dfStudents.count())\r\n",
        "display(dfStudents.limit(20))"
      ],
      "outputs": [
        {
          "output_type": "display_data",
          "data": {
            "application/vnd.livy.statement-meta+json": {
              "spark_pool": "spark3p2medTDG",
              "session_id": "7",
              "statement_id": 76,
              "state": "finished",
              "livy_statement_state": "available",
              "queued_time": "2023-02-03T00:10:54.3379808Z",
              "session_start_time": null,
              "execution_start_time": "2023-02-03T00:10:54.4839333Z",
              "execution_finish_time": "2023-02-03T00:10:55.5722711Z",
              "spark_jobs": null
            },
            "text/plain": "StatementMeta(spark3p2medTDG, 7, 76, Finished, Available)"
          },
          "metadata": {}
        },
        {
          "output_type": "stream",
          "name": "stdout",
          "text": [
            "Number of students generated (should be 300):\n300\n"
          ]
        },
        {
          "output_type": "display_data",
          "data": {
            "application/vnd.synapse.widget-view+json": {
              "widget_id": "13a4bd11-dc64-4284-abdf-f6e38ae396c8",
              "widget_type": "Synapse.DataFrame"
            },
            "text/plain": "SynapseWidget(Synapse.DataFrame, 13a4bd11-dc64-4284-abdf-f6e38ae396c8)"
          },
          "metadata": {}
        }
      ],
      "execution_count": 98,
      "metadata": {
        "jupyter": {
          "source_hidden": false,
          "outputs_hidden": false
        },
        "nteract": {
          "transient": {
            "deleting": false
          }
        },
        "collapsed": false
      }
    },
    {
      "cell_type": "code",
      "source": [
        "# 2) base_schools\r\n",
        "dfSchools = oea.load_csv('stage1/Transactional/test_data/v0.1/base_schools/snapshot_batch_data/*/*.csv', header=True)\r\n",
        "display(dfSchools.limit(10))"
      ],
      "outputs": [
        {
          "output_type": "display_data",
          "data": {
            "application/vnd.livy.statement-meta+json": {
              "spark_pool": "spark3p2medTDG",
              "session_id": "7",
              "statement_id": 77,
              "state": "finished",
              "livy_statement_state": "available",
              "queued_time": "2023-02-03T00:10:57.9418Z",
              "session_start_time": null,
              "execution_start_time": "2023-02-03T00:10:58.0490905Z",
              "execution_finish_time": "2023-02-03T00:10:58.5860865Z",
              "spark_jobs": null
            },
            "text/plain": "StatementMeta(spark3p2medTDG, 7, 77, Finished, Available)"
          },
          "metadata": {}
        },
        {
          "output_type": "display_data",
          "data": {
            "application/vnd.synapse.widget-view+json": {
              "widget_id": "ba7f9545-d7ce-4fa1-9f3b-0a0581816192",
              "widget_type": "Synapse.DataFrame"
            },
            "text/plain": "SynapseWidget(Synapse.DataFrame, ba7f9545-d7ce-4fa1-9f3b-0a0581816192)"
          },
          "metadata": {}
        }
      ],
      "execution_count": 99,
      "metadata": {
        "jupyter": {
          "source_hidden": false,
          "outputs_hidden": false
        },
        "nteract": {
          "transient": {
            "deleting": false
          }
        },
        "collapsed": false
      }
    },
    {
      "cell_type": "code",
      "source": [
        "# 3) base_courses\r\n",
        "dfCourses = oea.load_csv('stage1/Transactional/test_data/v0.1/base_courses/snapshot_batch_data/*/*.csv', header=True)\r\n",
        "# if K-12 gen: 21 courses per high school, 24 courses per middle school, 6 courses per elementary school\r\n",
        "if education_level == 'k12':\r\n",
        "    dfCount = dfSchools.groupBy('SchoolType').count()\r\n",
        "    temp = dfCount.filter(dfCount['SchoolType'] == 'High School')\r\n",
        "    num_hs_gen = temp.collect()[0][1]\r\n",
        "    temp = dfCount.filter(dfCount['SchoolType'] == 'Middle School')\r\n",
        "    num_ms_gen = temp.collect()[0][1]\r\n",
        "    temp = dfCount.filter(dfCount['SchoolType'] == 'Elementary School')\r\n",
        "    num_es_gen = temp.collect()[0][1]\r\n",
        "    total_courses = (num_hs_gen * 21) + (num_ms_gen * 24) + (num_es_gen * 6)\r\n",
        "    print('There should be ' + str(total_courses) + ' K-12 courses generated.')\r\n",
        "# if Higher Ed. gen: num_courses input * num_schools input\r\n",
        "else:\r\n",
        "    num_schools_gen = dfSchools.count()\r\n",
        "    total_courses = num_schools * num_courses\r\n",
        "    print('There should be ' + str(total_courses) + ' Higher Ed. courses generated.')\r\n",
        "print('Actual number of courses generated: ' + str(dfCourses.count()))\r\n",
        "display(dfCourses)"
      ],
      "outputs": [
        {
          "output_type": "display_data",
          "data": {
            "application/vnd.livy.statement-meta+json": {
              "spark_pool": "spark3p2medTDG",
              "session_id": "7",
              "statement_id": 78,
              "state": "finished",
              "livy_statement_state": "available",
              "queued_time": "2023-02-03T00:11:01.5332738Z",
              "session_start_time": null,
              "execution_start_time": "2023-02-03T00:11:01.6353385Z",
              "execution_finish_time": "2023-02-03T00:11:02.8034931Z",
              "spark_jobs": null
            },
            "text/plain": "StatementMeta(spark3p2medTDG, 7, 78, Finished, Available)"
          },
          "metadata": {}
        },
        {
          "output_type": "stream",
          "name": "stdout",
          "text": [
            "There should be 81 K-12 courses generated.\nActual number of courses generated: 81\n"
          ]
        },
        {
          "output_type": "display_data",
          "data": {
            "application/vnd.synapse.widget-view+json": {
              "widget_id": "143a378b-fe05-4479-8e17-77754dfee937",
              "widget_type": "Synapse.DataFrame"
            },
            "text/plain": "SynapseWidget(Synapse.DataFrame, 143a378b-fe05-4479-8e17-77754dfee937)"
          },
          "metadata": {}
        }
      ],
      "execution_count": 100,
      "metadata": {
        "jupyter": {
          "source_hidden": false,
          "outputs_hidden": false
        },
        "nteract": {
          "transient": {
            "deleting": false
          }
        },
        "collapsed": false
      }
    },
    {
      "cell_type": "code",
      "source": [
        "# 4) base_sections\r\n",
        "dfSections = oea.load_csv('stage1/Transactional/test_data/v0.1/base_sections/snapshot_batch_data/*/*.csv', header=True)\r\n",
        "num_courses_gen = dfCourses.count()\r\n",
        "# if K-12 gen: 1-2 sections per course per high/middle school, 2-4 sections for 6 courses per elementary school\r\n",
        "if education_level == 'k12':\r\n",
        "    min_sections_gen = num_courses_gen + (num_es_gen * 6)\r\n",
        "    max_sections_gen = (num_courses_gen * 2) + ((num_es_gen * 6)*2)\r\n",
        "    print('There should be between ' + str(min_sections_gen) + ' and ' + str(max_sections_gen) + ' K-12 sections generated.')\r\n",
        "# if Higher Ed. gen: 1-2 sections per the number of courses generated\r\n",
        "else:\r\n",
        "    min_sections_gen = num_courses_gen \r\n",
        "    max_sections_gen = num_courses_gen*2\r\n",
        "    print('There should be between ' + str(min_sections_gen) + ' and ' + str(max_sections_gen) + ' Higher Ed. sections generated.')\r\n",
        "max_num_courses_gen = (num_courses_gen * 2) + (num_es_gen * 4)\r\n",
        "print('Actual number of sections generated: ' + str(dfSections.count()))\r\n",
        "display(dfSections.limit(10))"
      ],
      "outputs": [
        {
          "output_type": "display_data",
          "data": {
            "application/vnd.livy.statement-meta+json": {
              "spark_pool": "spark3p2medTDG",
              "session_id": "7",
              "statement_id": 80,
              "state": "finished",
              "livy_statement_state": "available",
              "queued_time": "2023-02-03T00:24:34.163571Z",
              "session_start_time": null,
              "execution_start_time": "2023-02-03T00:24:34.3102505Z",
              "execution_finish_time": "2023-02-03T00:24:35.4064507Z",
              "spark_jobs": null
            },
            "text/plain": "StatementMeta(spark3p2medTDG, 7, 80, Finished, Available)"
          },
          "metadata": {}
        },
        {
          "output_type": "stream",
          "name": "stdout",
          "text": [
            "There should be between 93 and 186 K-12 sections generated.\nActual number of sections generated: 148\n"
          ]
        },
        {
          "output_type": "display_data",
          "data": {
            "application/vnd.synapse.widget-view+json": {
              "widget_id": "59dc061f-5acc-4196-8a79-76fb35ea5b33",
              "widget_type": "Synapse.DataFrame"
            },
            "text/plain": "SynapseWidget(Synapse.DataFrame, 59dc061f-5acc-4196-8a79-76fb35ea5b33)"
          },
          "metadata": {}
        }
      ],
      "execution_count": 102,
      "metadata": {
        "jupyter": {
          "source_hidden": false,
          "outputs_hidden": false
        },
        "nteract": {
          "transient": {
            "deleting": false
          }
        },
        "collapsed": false
      }
    },
    {
      "cell_type": "code",
      "source": [
        "# 5) base_enrollment\r\n",
        "dfEnroll = oea.load_csv('stage1/Transactional/test_data/v0.1/base_enrollment/snapshot_batch_data/*/*.csv', header=True)\r\n",
        "# if K-12 gen: 1 enrollment per student in elementary school, num_sections_enrolled_per_student per student in high/middle school\r\n",
        "if education_level == 'k12':\r\n",
        "    dfCount = dfStudents.groupBy('SchoolType').count()\r\n",
        "    temp = dfCount.filter(dfCount['SchoolType'] == 'Elementary School')\r\n",
        "    num_es_students_gen = temp.collect()[0][1]\r\n",
        "    num_hms_students_gen = num_students - num_es_students_gen\r\n",
        "    total_enrollments = (num_hms_students_gen * num_sections_enrolled_per_student) + num_es_students_gen\r\n",
        "    print('There should be ' + str(total_enrollments) + ' K-12 enrollments generated.')\r\n",
        "# if Higher Ed. gen: num_sections_enrolled_per_student per student\r\n",
        "else:\r\n",
        "    total_enrollments = num_students * num_sections_enrolled_per_student\r\n",
        "    print('There should be ' + str(total_enrollments) + ' Higher Ed. enrollments generated.')\r\n",
        "print('Actual number of enrollments generated: ' + str(dfEnroll.count()))\r\n",
        "display(dfEnroll.limit(10))"
      ],
      "outputs": [
        {
          "output_type": "display_data",
          "data": {
            "application/vnd.livy.statement-meta+json": {
              "spark_pool": "spark3p2medTDG",
              "session_id": "7",
              "statement_id": 81,
              "state": "finished",
              "livy_statement_state": "available",
              "queued_time": "2023-02-03T00:35:43.2076124Z",
              "session_start_time": null,
              "execution_start_time": "2023-02-03T00:35:43.3284388Z",
              "execution_finish_time": "2023-02-03T00:35:46.2070039Z",
              "spark_jobs": null
            },
            "text/plain": "StatementMeta(spark3p2medTDG, 7, 81, Finished, Available)"
          },
          "metadata": {}
        },
        {
          "output_type": "stream",
          "name": "stdout",
          "text": [
            "There should be 1275 K-12 enrollments generated.\nActual number of enrollments generated: 1275\n"
          ]
        },
        {
          "output_type": "display_data",
          "data": {
            "application/vnd.synapse.widget-view+json": {
              "widget_id": "28b16c94-1f59-4507-acab-77fd5d9798e0",
              "widget_type": "Synapse.DataFrame"
            },
            "text/plain": "SynapseWidget(Synapse.DataFrame, 28b16c94-1f59-4507-acab-77fd5d9798e0)"
          },
          "metadata": {}
        }
      ],
      "execution_count": 103,
      "metadata": {
        "jupyter": {
          "source_hidden": false,
          "outputs_hidden": false
        },
        "nteract": {
          "transient": {
            "deleting": false
          }
        },
        "collapsed": false
      }
    }
  ],
  "metadata": {
    "kernelspec": {
      "name": "synapse_pyspark",
      "language": "Python",
      "display_name": "Synapse PySpark"
    },
    "language_info": {
      "name": "python"
    },
    "kernel_info": {
      "name": "synapse_pyspark"
    },
    "description": null,
    "save_output": true,
    "synapse_widget": {
      "version": "0.1",
      "state": {
        "13a4bd11-dc64-4284-abdf-f6e38ae396c8": {
          "type": "Synapse.DataFrame",
          "sync_state": {
            "table": {
              "rows": [
                {
                  "0": "F",
                  "1": "Amy",
                  "2": "Nancy",
                  "3": "Craig",
                  "4": "75af8741-7e04-4bb7-b73f-69ee06a56598",
                  "5": "2011-01-08",
                  "6": "Dennis Middle",
                  "7": "484c0d3b-7d5e-4026-bd63-2556ed7042ab",
                  "8": "Middle School",
                  "9": "6",
                  "10": "high",
                  "11": "False",
                  "12": "white",
                  "14": "AmyCraig@contoso.edu",
                  "15": "001-742-832-7581",
                  "16": "369 Ruth Avenue",
                  "17": "Mountain View",
                  "18": "CA",
                  "19": "94043"
                },
                {
                  "0": "M",
                  "1": "Joel",
                  "2": "Mario",
                  "3": "Smith",
                  "4": "d85255f1-aa0e-4f66-bf4f-4e27f6f40815",
                  "5": "2005-12-19",
                  "6": "Salas High",
                  "7": "df7a9ccc-0d60-4bd9-93dc-1cb7bba80f4b",
                  "8": "High School",
                  "9": "11",
                  "10": "avg",
                  "11": "False",
                  "12": "white",
                  "13": "FreeLunch",
                  "14": "JoelSmith@contoso.edu",
                  "15": "(518)831-3952",
                  "16": "1732 27th Avenue",
                  "17": "Oakland",
                  "18": "CA",
                  "19": "94601"
                },
                {
                  "0": "M",
                  "1": "Walter",
                  "2": "David",
                  "3": "Torres",
                  "4": "37e8f01c-16e3-47ec-90b7-49f772ca4585",
                  "5": "2005-03-23",
                  "6": "Salas High",
                  "7": "df7a9ccc-0d60-4bd9-93dc-1cb7bba80f4b",
                  "8": "High School",
                  "9": "11",
                  "10": "avg",
                  "11": "False",
                  "12": "blackafricanamerican",
                  "14": "WalterTorres@contoso.edu",
                  "15": "733.957.1496x80844",
                  "16": "3600 Pennsylvania Avenue",
                  "17": "Fremont",
                  "18": "CA",
                  "19": "94536"
                },
                {
                  "0": "F",
                  "1": "Jillian",
                  "2": "Lisa",
                  "3": "Lopez",
                  "4": "c33fb820-d6b6-4687-8e1b-ef2ae234cee5",
                  "5": "2012-09-02",
                  "6": "Lopez Elementary",
                  "7": "272c997c-52a5-48f1-944c-d2004e79b26f",
                  "8": "Elementary School",
                  "9": "4",
                  "10": "high",
                  "11": "False",
                  "12": "blackafricanamerican",
                  "14": "JillianLopez@contoso.edu",
                  "15": "0847692142",
                  "16": "849 East Victoria Street",
                  "17": "Carson",
                  "18": "CA",
                  "19": "90746"
                },
                {
                  "0": "F",
                  "1": "Joanna",
                  "2": "Patricia",
                  "3": "Jennings",
                  "4": "01cd483f-8e24-4ba7-9817-09af628f47e6",
                  "5": "2007-10-09",
                  "6": "Salas High",
                  "7": "df7a9ccc-0d60-4bd9-93dc-1cb7bba80f4b",
                  "8": "High School",
                  "9": "9",
                  "10": "avg",
                  "11": "False",
                  "12": "white",
                  "13": "ReducedLunch",
                  "14": "JoannaJennings@contoso.edu",
                  "15": "802-469-1164",
                  "16": "4409 Star Jasmine Court",
                  "17": "Bakersfield",
                  "18": "CA",
                  "19": "93304"
                },
                {
                  "0": "F",
                  "1": "Norma",
                  "2": "Connie",
                  "3": "Harris",
                  "4": "ba17545b-1b23-4313-a666-ee9c129c7f31",
                  "5": "2007-09-12",
                  "6": "Salas High",
                  "7": "df7a9ccc-0d60-4bd9-93dc-1cb7bba80f4b",
                  "8": "High School",
                  "9": "9",
                  "10": "avg",
                  "11": "True",
                  "12": "white",
                  "13": "ReducedLunch",
                  "14": "NormaHarris@contoso.edu",
                  "15": "200.575.0933x493",
                  "16": "422 Richmond Street",
                  "17": "El Cerrito",
                  "18": "CA",
                  "19": "94530"
                },
                {
                  "0": "M",
                  "1": "Russell",
                  "2": "Brian",
                  "3": "Smith",
                  "4": "31cdd3ba-458f-4c24-a617-bd0d852bf710",
                  "5": "2008-08-25",
                  "6": "Williams Middle",
                  "7": "8af23a70-6245-484b-aef6-5ec228aa5846",
                  "8": "Middle School",
                  "9": "8",
                  "10": "high",
                  "11": "False",
                  "12": "white",
                  "14": "RussellSmith@contoso.edu",
                  "15": "+1-846-938-8658x62746",
                  "16": "2641 Heather Lane",
                  "17": "Redding",
                  "18": "CA",
                  "19": "96002"
                },
                {
                  "0": "M",
                  "1": "Jesus",
                  "2": "John",
                  "3": "Wolf",
                  "4": "461024ee-4a9f-4cab-99ce-4c7086e5d3c1",
                  "5": "2004-11-08",
                  "6": "Salas High",
                  "7": "df7a9ccc-0d60-4bd9-93dc-1cb7bba80f4b",
                  "8": "High School",
                  "9": "12",
                  "10": "avg",
                  "11": "False",
                  "12": "blackafricanamerican",
                  "14": "JesusWolf@contoso.edu",
                  "15": "+1-069-467-5699x7605",
                  "16": "25793 Durrwood Court",
                  "17": "Castro Valley",
                  "18": "CA",
                  "19": "94552"
                },
                {
                  "0": "M",
                  "1": "Michael",
                  "2": "Cody",
                  "3": "Thompson",
                  "4": "ce532fd0-6ad0-4e5a-b80b-b99b5a6d1d90",
                  "5": "2016-03-04",
                  "6": "Lopez Elementary",
                  "7": "272c997c-52a5-48f1-944c-d2004e79b26f",
                  "8": "Elementary School",
                  "9": "KG",
                  "10": "high",
                  "11": "False",
                  "12": "white",
                  "14": "MichaelThompson@contoso.edu",
                  "15": "738-561-1827x0225",
                  "16": "1194 Cragmont Avenue",
                  "17": "Berkeley",
                  "18": "CA",
                  "19": "94708"
                },
                {
                  "0": "M",
                  "1": "Scott",
                  "2": "Richard",
                  "3": "Benson",
                  "4": "1d40b19d-d6e5-47cf-be39-c992093692d8",
                  "5": "2014-04-07",
                  "6": "Hunt Elementary",
                  "7": "66c877df-17ef-4ea7-a25d-9049423ae59b",
                  "8": "Elementary School",
                  "9": "2",
                  "10": "avg",
                  "11": "False",
                  "12": "white",
                  "13": "FreeLunch",
                  "14": "ScottBenson@contoso.edu",
                  "15": "001-678-425-5865x82875",
                  "16": "7435 East Tulare Avenue",
                  "17": "Fresno",
                  "18": "CA",
                  "19": "93737"
                },
                {
                  "0": "M",
                  "1": "Shawn",
                  "2": "Maurice",
                  "3": "Larson",
                  "4": "d5ab515d-3a16-4769-a0d2-85a04ce45f83",
                  "5": "2009-04-23",
                  "6": "Dennis Middle",
                  "7": "484c0d3b-7d5e-4026-bd63-2556ed7042ab",
                  "8": "Middle School",
                  "9": "7",
                  "10": "high",
                  "11": "False",
                  "12": "white",
                  "13": "ReducedLunch",
                  "14": "ShawnLarson@contoso.edu",
                  "15": "276.032.4555",
                  "16": "4511 Sloat Road",
                  "17": "Fremont",
                  "18": "CA",
                  "19": "94538"
                },
                {
                  "0": "M",
                  "1": "Justin",
                  "2": "Adrian",
                  "3": "Costa",
                  "4": "806ffd69-2885-4db7-b7ab-270d3cf50f03",
                  "5": "2013-03-18",
                  "6": "Lopez Elementary",
                  "7": "272c997c-52a5-48f1-944c-d2004e79b26f",
                  "8": "Elementary School",
                  "9": "3",
                  "10": "avg",
                  "11": "False",
                  "12": "white",
                  "13": "ReducedLunch",
                  "14": "JustinCosta@contoso.edu",
                  "15": "+1-439-872-2297x74494",
                  "16": "5732 Jean Drive",
                  "17": "Union City",
                  "18": "CA",
                  "19": "94587"
                },
                {
                  "0": "M",
                  "1": "Troy",
                  "2": "Joseph",
                  "3": "Lee",
                  "4": "6bdecfe0-eb0e-4d0d-9547-aed1fb2d5c4d",
                  "5": "2013-08-15",
                  "6": "Lopez Elementary",
                  "7": "272c997c-52a5-48f1-944c-d2004e79b26f",
                  "8": "Elementary School",
                  "9": "3",
                  "10": "high",
                  "11": "False",
                  "12": "white",
                  "14": "TroyLee@contoso.edu",
                  "15": "+1-021-656-8451x686",
                  "16": "3115 North Lake Boulevard",
                  "17": "Tahoe City",
                  "18": "CA",
                  "19": "96145"
                },
                {
                  "0": "F",
                  "1": "Catherine",
                  "2": "Michelle",
                  "3": "Farley",
                  "4": "14093d5b-daac-4263-8d28-e1b2daa2d636",
                  "5": "2011-01-08",
                  "6": "Williams Middle",
                  "7": "8af23a70-6245-484b-aef6-5ec228aa5846",
                  "8": "Middle School",
                  "9": "6",
                  "10": "avg",
                  "11": "False",
                  "12": "asian",
                  "14": "CatherineFarley@contoso.edu",
                  "15": "001-877-131-7826",
                  "16": "2035 Ninth Street",
                  "17": "Berkeley",
                  "18": "CA",
                  "19": "94710"
                },
                {
                  "0": "F",
                  "1": "Lauren",
                  "2": "Tara",
                  "3": "Silva",
                  "4": "66b5e27d-b22f-440b-be8a-42285e9a3871",
                  "5": "2007-04-13",
                  "6": "Salas High",
                  "7": "df7a9ccc-0d60-4bd9-93dc-1cb7bba80f4b",
                  "8": "High School",
                  "9": "9",
                  "10": "avg",
                  "11": "False",
                  "12": "white",
                  "14": "LaurenSilva@contoso.edu",
                  "15": "001-827-450-3745x17073",
                  "16": "7237 Wild Currant Way",
                  "17": "Oakland",
                  "18": "CA",
                  "19": "94611"
                },
                {
                  "0": "F",
                  "1": "Vicki",
                  "2": "Amy",
                  "3": "Weiss",
                  "4": "5d2bac69-37cf-4159-95e8-fa5fe4998e20",
                  "5": "2004-10-11",
                  "6": "Salas High",
                  "7": "df7a9ccc-0d60-4bd9-93dc-1cb7bba80f4b",
                  "8": "High School",
                  "9": "12",
                  "10": "low",
                  "11": "False",
                  "12": "white",
                  "14": "VickiWeiss@contoso.edu",
                  "15": "8939710194",
                  "16": "3483 Canyon Creek Drive",
                  "17": "San Jose",
                  "18": "CA",
                  "19": "95132"
                },
                {
                  "0": "M",
                  "1": "Brian",
                  "2": "Frank",
                  "3": "Martinez",
                  "4": "6cd2aa29-e14a-46ae-84d5-55b5d0b7975b",
                  "5": "2007-09-03",
                  "6": "Salas High",
                  "7": "df7a9ccc-0d60-4bd9-93dc-1cb7bba80f4b",
                  "8": "High School",
                  "9": "9",
                  "10": "avg",
                  "11": "False",
                  "12": "white",
                  "14": "BrianMartinez@contoso.edu",
                  "15": "+1-368-725-8130x2806",
                  "16": "618 Staley Avenue",
                  "17": "Hayward",
                  "18": "CA",
                  "19": "94541"
                },
                {
                  "0": "O",
                  "1": "Judy",
                  "2": "James",
                  "3": "Hodge",
                  "4": "80bc6eee-2a7a-4da8-9a88-322528697656",
                  "5": "2010-01-12",
                  "6": "Dennis Middle",
                  "7": "484c0d3b-7d5e-4026-bd63-2556ed7042ab",
                  "8": "Middle School",
                  "9": "7",
                  "10": "avg",
                  "11": "False",
                  "12": "blackafricanamerican",
                  "14": "JudyHodge@contoso.edu",
                  "15": "(473)286-2482x5661",
                  "16": "72 Salmon Road",
                  "17": "Alameda",
                  "18": "CA",
                  "19": "94502"
                },
                {
                  "0": "M",
                  "1": "Jose",
                  "2": "Christopher",
                  "3": "Dillon",
                  "4": "f06e57b3-276e-4d33-bfc7-9de3cdc38040",
                  "5": "2013-04-05",
                  "6": "Lopez Elementary",
                  "7": "272c997c-52a5-48f1-944c-d2004e79b26f",
                  "8": "Elementary School",
                  "9": "3",
                  "10": "avg",
                  "11": "False",
                  "12": "white",
                  "14": "JoseDillon@contoso.edu",
                  "15": "+1-843-511-0231x5446",
                  "16": "826 Webster Street",
                  "17": "Hayward",
                  "18": "CA",
                  "19": "94544"
                },
                {
                  "0": "F",
                  "1": "Jacqueline",
                  "2": "Melissa",
                  "3": "Williams",
                  "4": "026cd750-a100-42bd-bf17-e5aa4eae754a",
                  "5": "2010-12-31",
                  "6": "Williams Middle",
                  "7": "8af23a70-6245-484b-aef6-5ec228aa5846",
                  "8": "Middle School",
                  "9": "6",
                  "10": "avg",
                  "11": "False",
                  "12": "blackafricanamerican",
                  "14": "JacquelineWilliams@contoso.edu",
                  "15": "765.530.7886x6739",
                  "16": "1820 Scenic Avenue",
                  "17": "Berkeley",
                  "18": "CA",
                  "19": "94709"
                }
              ],
              "schema": [
                {
                  "key": "0",
                  "name": "Gender",
                  "type": "string"
                },
                {
                  "key": "1",
                  "name": "FirstName",
                  "type": "string"
                },
                {
                  "key": "2",
                  "name": "MiddleName",
                  "type": "string"
                },
                {
                  "key": "3",
                  "name": "LastName",
                  "type": "string"
                },
                {
                  "key": "4",
                  "name": "StudentID",
                  "type": "string"
                },
                {
                  "key": "5",
                  "name": "Birthday",
                  "type": "string"
                },
                {
                  "key": "6",
                  "name": "SchoolName",
                  "type": "string"
                },
                {
                  "key": "7",
                  "name": "SchoolID",
                  "type": "string"
                },
                {
                  "key": "8",
                  "name": "SchoolType",
                  "type": "string"
                },
                {
                  "key": "9",
                  "name": "Grade",
                  "type": "string"
                },
                {
                  "key": "10",
                  "name": "Performance",
                  "type": "string"
                },
                {
                  "key": "11",
                  "name": "HispanicLatino",
                  "type": "string"
                },
                {
                  "key": "12",
                  "name": "Race",
                  "type": "string"
                },
                {
                  "key": "13",
                  "name": "Flag",
                  "type": "string"
                },
                {
                  "key": "14",
                  "name": "Email",
                  "type": "string"
                },
                {
                  "key": "15",
                  "name": "Phone",
                  "type": "string"
                },
                {
                  "key": "16",
                  "name": "Address",
                  "type": "string"
                },
                {
                  "key": "17",
                  "name": "City",
                  "type": "string"
                },
                {
                  "key": "18",
                  "name": "State",
                  "type": "string"
                },
                {
                  "key": "19",
                  "name": "Zipcode",
                  "type": "string"
                }
              ],
              "truncated": false
            },
            "isSummary": false,
            "language": "scala"
          },
          "persist_state": {
            "view": {
              "type": "details",
              "tableOptions": {},
              "chartOptions": {
                "chartType": "bar",
                "aggregationType": "count",
                "categoryFieldKeys": [
                  "0"
                ],
                "seriesFieldKeys": [
                  "0"
                ],
                "isStacked": false
              }
            }
          }
        },
        "ba7f9545-d7ce-4fa1-9f3b-0a0581816192": {
          "type": "Synapse.DataFrame",
          "sync_state": {
            "table": {
              "rows": [
                {
                  "0": "Salas High",
                  "1": "df7a9ccc-0d60-4bd9-93dc-1cb7bba80f4b",
                  "2": "High School"
                },
                {
                  "0": "Williams Middle",
                  "1": "8af23a70-6245-484b-aef6-5ec228aa5846",
                  "2": "Middle School"
                },
                {
                  "0": "Lopez Elementary",
                  "1": "272c997c-52a5-48f1-944c-d2004e79b26f",
                  "2": "Elementary School"
                },
                {
                  "0": "Dennis Middle",
                  "1": "484c0d3b-7d5e-4026-bd63-2556ed7042ab",
                  "2": "Middle School"
                },
                {
                  "0": "Hunt Elementary",
                  "1": "66c877df-17ef-4ea7-a25d-9049423ae59b",
                  "2": "Elementary School"
                }
              ],
              "schema": [
                {
                  "key": "0",
                  "name": "SchoolName",
                  "type": "string"
                },
                {
                  "key": "1",
                  "name": "SchoolID",
                  "type": "string"
                },
                {
                  "key": "2",
                  "name": "SchoolType",
                  "type": "string"
                }
              ],
              "truncated": false
            },
            "isSummary": false,
            "language": "scala"
          },
          "persist_state": {
            "view": {
              "type": "details",
              "tableOptions": {},
              "chartOptions": {
                "chartType": "bar",
                "aggregationType": "count",
                "categoryFieldKeys": [
                  "0"
                ],
                "seriesFieldKeys": [
                  "0"
                ],
                "isStacked": false
              }
            }
          }
        },
        "143a378b-fe05-4479-8e17-77754dfee937": {
          "type": "Synapse.DataFrame",
          "sync_state": {
            "table": {
              "rows": [
                {
                  "0": "Trigonomotry",
                  "1": "a5a9b02a-6eea-4dff-b0a3-4c43cc271adc",
                  "2": "Salas High",
                  "3": "df7a9ccc-0d60-4bd9-93dc-1cb7bba80f4b",
                  "4": "High School",
                  "5": "Mathematics",
                  "6": "0"
                },
                {
                  "0": "Pre-Calculus",
                  "1": "fb9bbe5a-ab18-498e-b623-9576e2c617d6",
                  "2": "Salas High",
                  "3": "df7a9ccc-0d60-4bd9-93dc-1cb7bba80f4b",
                  "4": "High School",
                  "5": "Mathematics",
                  "6": "11"
                },
                {
                  "0": "Calculus",
                  "1": "a33d635e-fa2d-48b9-ae80-8fffee115695",
                  "2": "Salas High",
                  "3": "df7a9ccc-0d60-4bd9-93dc-1cb7bba80f4b",
                  "4": "High School",
                  "5": "Mathematics",
                  "6": "12"
                },
                {
                  "0": "Choir",
                  "1": "3ef99deb-6a27-450c-9fa7-8ca3f1e0db91",
                  "2": "Salas High",
                  "3": "df7a9ccc-0d60-4bd9-93dc-1cb7bba80f4b",
                  "4": "High School",
                  "5": "Visual and Performing Arts",
                  "6": "0"
                },
                {
                  "0": "Band",
                  "1": "3f346cac-bfe1-41a1-89af-f2859fbf8bbc",
                  "2": "Salas High",
                  "3": "df7a9ccc-0d60-4bd9-93dc-1cb7bba80f4b",
                  "4": "High School",
                  "5": "Visual and Performing Arts",
                  "6": "0"
                },
                {
                  "0": "Orchestra",
                  "1": "454f7207-4703-44ec-9b1c-5f94cd862d9a",
                  "2": "Salas High",
                  "3": "df7a9ccc-0d60-4bd9-93dc-1cb7bba80f4b",
                  "4": "High School",
                  "5": "Visual and Performing Arts",
                  "6": "0"
                },
                {
                  "0": "Reading",
                  "1": "d1c735b5-72e1-428a-b862-61286aceeea0",
                  "2": "Salas High",
                  "3": "df7a9ccc-0d60-4bd9-93dc-1cb7bba80f4b",
                  "4": "High School",
                  "5": "English Language and Literature",
                  "6": "0"
                },
                {
                  "0": "English",
                  "1": "d2a343ad-8730-4d2f-b438-a10430ebd007",
                  "2": "Salas High",
                  "3": "df7a9ccc-0d60-4bd9-93dc-1cb7bba80f4b",
                  "4": "High School",
                  "5": "English Language and Literature",
                  "6": "0"
                },
                {
                  "0": "World Literature",
                  "1": "74bc6159-5e15-4cd7-88f3-6a5ab95537b3",
                  "2": "Salas High",
                  "3": "df7a9ccc-0d60-4bd9-93dc-1cb7bba80f4b",
                  "4": "High School",
                  "5": "English Language and Literature",
                  "6": "11"
                },
                {
                  "0": "Astronomy",
                  "1": "62a5becc-53cb-4ceb-8dc8-581cdc4d011d",
                  "2": "Salas High",
                  "3": "df7a9ccc-0d60-4bd9-93dc-1cb7bba80f4b",
                  "4": "High School",
                  "5": "Life and Physical Sciences",
                  "6": "9"
                },
                {
                  "0": "Biology",
                  "1": "86fb3224-c466-45e4-bd85-11f74dcb8b30",
                  "2": "Salas High",
                  "3": "df7a9ccc-0d60-4bd9-93dc-1cb7bba80f4b",
                  "4": "High School",
                  "5": "Life and Physical Sciences",
                  "6": "10"
                },
                {
                  "0": "Chemistry",
                  "1": "dfd52d54-bb12-43f6-b8f6-096108fb5cd0",
                  "2": "Salas High",
                  "3": "df7a9ccc-0d60-4bd9-93dc-1cb7bba80f4b",
                  "4": "High School",
                  "5": "Life and Physical Sciences",
                  "6": "11"
                },
                {
                  "0": "Physics",
                  "1": "4b0c3d29-a0d9-4fcc-a6c5-48be2e7a6aab",
                  "2": "Salas High",
                  "3": "df7a9ccc-0d60-4bd9-93dc-1cb7bba80f4b",
                  "4": "High School",
                  "5": "Life and Physical Sciences",
                  "6": "12"
                },
                {
                  "0": "Physical Education",
                  "1": "93c16514-ba45-4580-b005-e67b4c99f3ed",
                  "2": "Salas High",
                  "3": "df7a9ccc-0d60-4bd9-93dc-1cb7bba80f4b",
                  "4": "High School",
                  "5": "Physical Health and Safety Education",
                  "6": "0"
                },
                {
                  "0": "Health",
                  "1": "af556488-03e2-4625-8939-1a2608918313",
                  "2": "Salas High",
                  "3": "df7a9ccc-0d60-4bd9-93dc-1cb7bba80f4b",
                  "4": "High School",
                  "5": "Physical Health and Safety Education",
                  "6": "0"
                },
                {
                  "0": "Pottery",
                  "1": "018e3d2d-e80c-40ae-a0ee-6a4a05a6e49b",
                  "2": "Salas High",
                  "3": "df7a9ccc-0d60-4bd9-93dc-1cb7bba80f4b",
                  "4": "High School",
                  "5": "Visual and Performing Arts",
                  "6": "0"
                },
                {
                  "0": "Art",
                  "1": "64157462-f537-40c8-abdf-6c7939cbfb93",
                  "2": "Salas High",
                  "3": "df7a9ccc-0d60-4bd9-93dc-1cb7bba80f4b",
                  "4": "High School",
                  "5": "Visual and Performing Arts",
                  "6": "0"
                },
                {
                  "0": "Theatre",
                  "1": "6135e573-2b62-4773-9497-de4023406666",
                  "2": "Salas High",
                  "3": "df7a9ccc-0d60-4bd9-93dc-1cb7bba80f4b",
                  "4": "High School",
                  "5": "Visual and Performing Arts",
                  "6": "0"
                },
                {
                  "0": "Computer Science",
                  "1": "5f26e63e-2608-402f-be6f-8452d363c24f",
                  "2": "Salas High",
                  "3": "df7a9ccc-0d60-4bd9-93dc-1cb7bba80f4b",
                  "4": "High School",
                  "5": "Information Technology",
                  "6": "12"
                },
                {
                  "0": "US History",
                  "1": "5c376d2d-a618-43dc-bd68-7b8ce4e3201e",
                  "2": "Salas High",
                  "3": "df7a9ccc-0d60-4bd9-93dc-1cb7bba80f4b",
                  "4": "High School",
                  "5": "Social Sciences and History",
                  "6": "10"
                },
                {
                  "0": "World History",
                  "1": "77240cd1-9868-486d-8c1c-70a680a50e0e",
                  "2": "Salas High",
                  "3": "df7a9ccc-0d60-4bd9-93dc-1cb7bba80f4b",
                  "4": "High School",
                  "5": "Social Sciences and History",
                  "6": "11"
                },
                {
                  "0": "Remedial Math",
                  "1": "9b120a51-c9df-44f3-9a2a-4f42814574a2",
                  "2": "Williams Middle",
                  "3": "8af23a70-6245-484b-aef6-5ec228aa5846",
                  "4": "Middle School",
                  "5": "Mathematics",
                  "6": "0"
                },
                {
                  "0": "Pre-Algebra",
                  "1": "aaec2e74-a90a-413f-9579-ed453e4044a4",
                  "2": "Williams Middle",
                  "3": "8af23a70-6245-484b-aef6-5ec228aa5846",
                  "4": "Middle School",
                  "5": "Mathematics",
                  "6": "6"
                },
                {
                  "0": "Algebra 1",
                  "1": "e8bb9174-e405-401e-be11-1cbbaf92b3ea",
                  "2": "Williams Middle",
                  "3": "8af23a70-6245-484b-aef6-5ec228aa5846",
                  "4": "Middle School",
                  "5": "Mathematics",
                  "6": "7"
                },
                {
                  "0": "Geometry",
                  "1": "1a9da1c1-8ea1-4917-ab2a-605ea13af6a1",
                  "2": "Williams Middle",
                  "3": "8af23a70-6245-484b-aef6-5ec228aa5846",
                  "4": "Middle School",
                  "5": "Mathematics",
                  "6": "8"
                },
                {
                  "0": "Algebra 2",
                  "1": "84b1648e-023f-4db0-80b2-66c3c11d65b6",
                  "2": "Williams Middle",
                  "3": "8af23a70-6245-484b-aef6-5ec228aa5846",
                  "4": "Middle School",
                  "5": "Mathematics",
                  "6": "8"
                },
                {
                  "0": "Choir",
                  "1": "d26369e8-a592-42f5-ad40-ecf4666b7282",
                  "2": "Williams Middle",
                  "3": "8af23a70-6245-484b-aef6-5ec228aa5846",
                  "4": "Middle School",
                  "5": "Visual and Performing Arts",
                  "6": "0"
                },
                {
                  "0": "Band",
                  "1": "00168ba9-a48e-414c-a646-226cfc509f8c",
                  "2": "Williams Middle",
                  "3": "8af23a70-6245-484b-aef6-5ec228aa5846",
                  "4": "Middle School",
                  "5": "Visual and Performing Arts",
                  "6": "0"
                },
                {
                  "0": "Orchestra",
                  "1": "69dcd178-dcde-4807-ae11-4a98e43de7f9",
                  "2": "Williams Middle",
                  "3": "8af23a70-6245-484b-aef6-5ec228aa5846",
                  "4": "Middle School",
                  "5": "Visual and Performing Arts",
                  "6": "0"
                },
                {
                  "0": "ELA",
                  "1": "7e513a90-b85d-4b84-a247-c2144132bebc",
                  "2": "Williams Middle",
                  "3": "8af23a70-6245-484b-aef6-5ec228aa5846",
                  "4": "Middle School",
                  "5": "English Language Arts and Literature",
                  "6": "0"
                },
                {
                  "0": "Advanced ELA",
                  "1": "80d4c45d-36eb-4582-87ce-f8e5303c9e35",
                  "2": "Williams Middle",
                  "3": "8af23a70-6245-484b-aef6-5ec228aa5846",
                  "4": "Middle School",
                  "5": "English Language Arts and Literature",
                  "6": "0"
                },
                {
                  "0": "World Literature",
                  "1": "1208d569-d625-46cc-aac2-9d60432c7a7f",
                  "2": "Williams Middle",
                  "3": "8af23a70-6245-484b-aef6-5ec228aa5846",
                  "4": "Middle School",
                  "5": "English Language Arts and Literature",
                  "6": "7"
                },
                {
                  "0": "Physical Science",
                  "1": "4d3bcd6d-41be-4961-930f-070859205218",
                  "2": "Williams Middle",
                  "3": "8af23a70-6245-484b-aef6-5ec228aa5846",
                  "4": "Middle School",
                  "5": "Sciences",
                  "6": "6"
                },
                {
                  "0": "Earth Science",
                  "1": "0cd1bbe3-71ef-4a63-b28d-3123b4678625",
                  "2": "Williams Middle",
                  "3": "8af23a70-6245-484b-aef6-5ec228aa5846",
                  "4": "Middle School",
                  "5": "Sciences",
                  "6": "7"
                },
                {
                  "0": "Engineering Sciences",
                  "1": "6b50ed7b-0437-45c3-8d4a-2df50573b8b9",
                  "2": "Williams Middle",
                  "3": "8af23a70-6245-484b-aef6-5ec228aa5846",
                  "4": "Middle School",
                  "5": "Sciences",
                  "6": "8"
                },
                {
                  "0": "Computer Science",
                  "1": "5047ffb0-3386-4014-b2ab-cec750c5363e",
                  "2": "Williams Middle",
                  "3": "8af23a70-6245-484b-aef6-5ec228aa5846",
                  "4": "Middle School",
                  "5": "Sciences",
                  "6": "8"
                },
                {
                  "0": "Physical Education",
                  "1": "44e20251-cb7c-47ec-b78d-96f7a6b69e2b",
                  "2": "Williams Middle",
                  "3": "8af23a70-6245-484b-aef6-5ec228aa5846",
                  "4": "Middle School",
                  "5": "Physical Health and Safety Education",
                  "6": "0"
                },
                {
                  "0": "Health",
                  "1": "9e3c3d2f-4368-4272-8a0b-ff96102c1e65",
                  "2": "Williams Middle",
                  "3": "8af23a70-6245-484b-aef6-5ec228aa5846",
                  "4": "Middle School",
                  "5": "Physical Health and Safety Education",
                  "6": "0"
                },
                {
                  "0": "Technical Education",
                  "1": "0a649d33-1d51-43dd-805a-f302686887e6",
                  "2": "Williams Middle",
                  "3": "8af23a70-6245-484b-aef6-5ec228aa5846",
                  "4": "Middle School",
                  "5": "Industrial Education",
                  "6": "7"
                },
                {
                  "0": "Home Economics",
                  "1": "3769275a-c750-439a-b59c-e76b4a7aedca",
                  "2": "Williams Middle",
                  "3": "8af23a70-6245-484b-aef6-5ec228aa5846",
                  "4": "Middle School",
                  "5": "Industrial Education",
                  "6": "7"
                },
                {
                  "0": "Art",
                  "1": "143bad3e-f37c-4506-8d2e-1f8406399751",
                  "2": "Williams Middle",
                  "3": "8af23a70-6245-484b-aef6-5ec228aa5846",
                  "4": "Middle School",
                  "5": "Visual and Performing Arts",
                  "6": "0"
                },
                {
                  "0": "Theatre",
                  "1": "4b89f3d3-f13d-480a-9817-74108a8df381",
                  "2": "Williams Middle",
                  "3": "8af23a70-6245-484b-aef6-5ec228aa5846",
                  "4": "Middle School",
                  "5": "Visual and Performing Arts",
                  "6": "0"
                },
                {
                  "0": "US History",
                  "1": "c04bac53-c6a4-42d4-a751-4568460d4e6c",
                  "2": "Williams Middle",
                  "3": "8af23a70-6245-484b-aef6-5ec228aa5846",
                  "4": "Middle School",
                  "5": "Social Sciences and History",
                  "6": "7"
                },
                {
                  "0": "World History",
                  "1": "73f9d2e1-70db-49c9-b230-6f2db1bbe188",
                  "2": "Williams Middle",
                  "3": "8af23a70-6245-484b-aef6-5ec228aa5846",
                  "4": "Middle School",
                  "5": "Social Sciences and History",
                  "6": "6"
                },
                {
                  "0": "Ancient History",
                  "1": "67316828-eb7e-4070-b639-723a44ca20da",
                  "2": "Williams Middle",
                  "3": "8af23a70-6245-484b-aef6-5ec228aa5846",
                  "4": "Middle School",
                  "5": "Social Sciences and History",
                  "6": "8"
                },
                {
                  "0": "Kindergarten Class",
                  "1": "71d5a8fa-2d51-415a-8aa6-fca73d5cf0ca",
                  "2": "Lopez Elementary",
                  "3": "272c997c-52a5-48f1-944c-d2004e79b26f",
                  "4": "Elementary School",
                  "5": "General Elementary Education",
                  "6": "KG"
                },
                {
                  "0": "1st Grade Class",
                  "1": "189879b7-50d3-4c0c-b94e-04695c20904c",
                  "2": "Lopez Elementary",
                  "3": "272c997c-52a5-48f1-944c-d2004e79b26f",
                  "4": "Elementary School",
                  "5": "General Elementary Education",
                  "6": "1"
                },
                {
                  "0": "2nd Grade Class",
                  "1": "20c4b40b-51a5-4bb5-ab5a-669b7758d54a",
                  "2": "Lopez Elementary",
                  "3": "272c997c-52a5-48f1-944c-d2004e79b26f",
                  "4": "Elementary School",
                  "5": "General Elementary Education",
                  "6": "2"
                },
                {
                  "0": "3rd Grade Class",
                  "1": "119df222-4dd3-48a1-8574-2528a60dcf3c",
                  "2": "Lopez Elementary",
                  "3": "272c997c-52a5-48f1-944c-d2004e79b26f",
                  "4": "Elementary School",
                  "5": "General Elementary Education",
                  "6": "3"
                },
                {
                  "0": "4th Grade Class",
                  "1": "bc487437-55d9-4bad-8120-be349d7f1244",
                  "2": "Lopez Elementary",
                  "3": "272c997c-52a5-48f1-944c-d2004e79b26f",
                  "4": "Elementary School",
                  "5": "General Elementary Education",
                  "6": "4"
                },
                {
                  "0": "5th Grade Class",
                  "1": "f5f06aef-d815-4ba8-9a46-2549440a4fcc",
                  "2": "Lopez Elementary",
                  "3": "272c997c-52a5-48f1-944c-d2004e79b26f",
                  "4": "Elementary School",
                  "5": "General Elementary Education",
                  "6": "5"
                },
                {
                  "0": "Remedial Math",
                  "1": "7ec211aa-0a88-4fe7-b365-cfe3bcb51cc4",
                  "2": "Dennis Middle",
                  "3": "484c0d3b-7d5e-4026-bd63-2556ed7042ab",
                  "4": "Middle School",
                  "5": "Mathematics",
                  "6": "0"
                },
                {
                  "0": "Pre-Algebra",
                  "1": "dc7d23c2-0a83-42fd-b757-fe51eba142d3",
                  "2": "Dennis Middle",
                  "3": "484c0d3b-7d5e-4026-bd63-2556ed7042ab",
                  "4": "Middle School",
                  "5": "Mathematics",
                  "6": "6"
                },
                {
                  "0": "Algebra 1",
                  "1": "ac806d71-2e5b-4867-9e44-379e1507ea44",
                  "2": "Dennis Middle",
                  "3": "484c0d3b-7d5e-4026-bd63-2556ed7042ab",
                  "4": "Middle School",
                  "5": "Mathematics",
                  "6": "7"
                },
                {
                  "0": "Geometry",
                  "1": "e6778de6-23b4-4af9-8937-d655891ef625",
                  "2": "Dennis Middle",
                  "3": "484c0d3b-7d5e-4026-bd63-2556ed7042ab",
                  "4": "Middle School",
                  "5": "Mathematics",
                  "6": "8"
                },
                {
                  "0": "Algebra 2",
                  "1": "bb98b0ea-c045-467d-957f-ce3b711b066e",
                  "2": "Dennis Middle",
                  "3": "484c0d3b-7d5e-4026-bd63-2556ed7042ab",
                  "4": "Middle School",
                  "5": "Mathematics",
                  "6": "8"
                },
                {
                  "0": "Choir",
                  "1": "64140aab-1f2f-4f47-afd9-a29c96d69e7c",
                  "2": "Dennis Middle",
                  "3": "484c0d3b-7d5e-4026-bd63-2556ed7042ab",
                  "4": "Middle School",
                  "5": "Visual and Performing Arts",
                  "6": "0"
                },
                {
                  "0": "Band",
                  "1": "829476b2-8756-48c2-b9bb-2fc8552fd492",
                  "2": "Dennis Middle",
                  "3": "484c0d3b-7d5e-4026-bd63-2556ed7042ab",
                  "4": "Middle School",
                  "5": "Visual and Performing Arts",
                  "6": "0"
                },
                {
                  "0": "Orchestra",
                  "1": "04474adb-f326-4c71-b8fd-c9b9d6857f03",
                  "2": "Dennis Middle",
                  "3": "484c0d3b-7d5e-4026-bd63-2556ed7042ab",
                  "4": "Middle School",
                  "5": "Visual and Performing Arts",
                  "6": "0"
                },
                {
                  "0": "ELA",
                  "1": "8ad0bba5-9e0d-4a7b-b72f-be3883056b0c",
                  "2": "Dennis Middle",
                  "3": "484c0d3b-7d5e-4026-bd63-2556ed7042ab",
                  "4": "Middle School",
                  "5": "English Language Arts and Literature",
                  "6": "0"
                },
                {
                  "0": "Advanced ELA",
                  "1": "b6f54364-ecc4-46f7-861b-966a9ef9a67f",
                  "2": "Dennis Middle",
                  "3": "484c0d3b-7d5e-4026-bd63-2556ed7042ab",
                  "4": "Middle School",
                  "5": "English Language Arts and Literature",
                  "6": "0"
                },
                {
                  "0": "World Literature",
                  "1": "a0ed32ce-0a28-4873-b5f1-d356f0872cec",
                  "2": "Dennis Middle",
                  "3": "484c0d3b-7d5e-4026-bd63-2556ed7042ab",
                  "4": "Middle School",
                  "5": "English Language Arts and Literature",
                  "6": "7"
                },
                {
                  "0": "Physical Science",
                  "1": "484263d7-2351-4206-b5c9-e42c25d9ba9b",
                  "2": "Dennis Middle",
                  "3": "484c0d3b-7d5e-4026-bd63-2556ed7042ab",
                  "4": "Middle School",
                  "5": "Sciences",
                  "6": "6"
                },
                {
                  "0": "Earth Science",
                  "1": "68860b3a-2447-4099-93a5-7d5dee471abb",
                  "2": "Dennis Middle",
                  "3": "484c0d3b-7d5e-4026-bd63-2556ed7042ab",
                  "4": "Middle School",
                  "5": "Sciences",
                  "6": "7"
                },
                {
                  "0": "Engineering Sciences",
                  "1": "0b0c566a-d434-42da-9d93-2f9fa3c90ac4",
                  "2": "Dennis Middle",
                  "3": "484c0d3b-7d5e-4026-bd63-2556ed7042ab",
                  "4": "Middle School",
                  "5": "Sciences",
                  "6": "8"
                },
                {
                  "0": "Computer Science",
                  "1": "1a0c4732-1be8-4d0e-9a6b-a60745275252",
                  "2": "Dennis Middle",
                  "3": "484c0d3b-7d5e-4026-bd63-2556ed7042ab",
                  "4": "Middle School",
                  "5": "Sciences",
                  "6": "8"
                },
                {
                  "0": "Physical Education",
                  "1": "12944825-d7e3-422d-ab4f-10cb1732ee68",
                  "2": "Dennis Middle",
                  "3": "484c0d3b-7d5e-4026-bd63-2556ed7042ab",
                  "4": "Middle School",
                  "5": "Physical Health and Safety Education",
                  "6": "0"
                },
                {
                  "0": "Health",
                  "1": "dd377087-4917-41c2-90c0-436012e32a75",
                  "2": "Dennis Middle",
                  "3": "484c0d3b-7d5e-4026-bd63-2556ed7042ab",
                  "4": "Middle School",
                  "5": "Physical Health and Safety Education",
                  "6": "0"
                },
                {
                  "0": "Technical Education",
                  "1": "00b523fb-5821-423a-bbec-f67408536c2d",
                  "2": "Dennis Middle",
                  "3": "484c0d3b-7d5e-4026-bd63-2556ed7042ab",
                  "4": "Middle School",
                  "5": "Industrial Education",
                  "6": "7"
                },
                {
                  "0": "Home Economics",
                  "1": "65b788af-0b77-43e5-934c-18b7fce44a3f",
                  "2": "Dennis Middle",
                  "3": "484c0d3b-7d5e-4026-bd63-2556ed7042ab",
                  "4": "Middle School",
                  "5": "Industrial Education",
                  "6": "7"
                },
                {
                  "0": "Art",
                  "1": "eecfef58-682c-40d8-8471-e23fc571d06f",
                  "2": "Dennis Middle",
                  "3": "484c0d3b-7d5e-4026-bd63-2556ed7042ab",
                  "4": "Middle School",
                  "5": "Visual and Performing Arts",
                  "6": "0"
                },
                {
                  "0": "Theatre",
                  "1": "7a69948e-f564-4dd9-b3b9-1b5a9072ace0",
                  "2": "Dennis Middle",
                  "3": "484c0d3b-7d5e-4026-bd63-2556ed7042ab",
                  "4": "Middle School",
                  "5": "Visual and Performing Arts",
                  "6": "0"
                },
                {
                  "0": "US History",
                  "1": "562d7883-201f-4278-bee7-3b83749ceac2",
                  "2": "Dennis Middle",
                  "3": "484c0d3b-7d5e-4026-bd63-2556ed7042ab",
                  "4": "Middle School",
                  "5": "Social Sciences and History",
                  "6": "7"
                },
                {
                  "0": "World History",
                  "1": "c97529d9-952a-413a-b291-d2f8ad232802",
                  "2": "Dennis Middle",
                  "3": "484c0d3b-7d5e-4026-bd63-2556ed7042ab",
                  "4": "Middle School",
                  "5": "Social Sciences and History",
                  "6": "6"
                },
                {
                  "0": "Ancient History",
                  "1": "d17e9b38-7557-4d22-be80-c74155610246",
                  "2": "Dennis Middle",
                  "3": "484c0d3b-7d5e-4026-bd63-2556ed7042ab",
                  "4": "Middle School",
                  "5": "Social Sciences and History",
                  "6": "8"
                },
                {
                  "0": "Kindergarten Class",
                  "1": "f66ec88c-c6db-47b6-8e01-3d02772a9b7c",
                  "2": "Hunt Elementary",
                  "3": "66c877df-17ef-4ea7-a25d-9049423ae59b",
                  "4": "Elementary School",
                  "5": "General Elementary Education",
                  "6": "KG"
                },
                {
                  "0": "1st Grade Class",
                  "1": "dc62cb6b-4df8-4a84-b9d6-95ee16cc62f7",
                  "2": "Hunt Elementary",
                  "3": "66c877df-17ef-4ea7-a25d-9049423ae59b",
                  "4": "Elementary School",
                  "5": "General Elementary Education",
                  "6": "1"
                },
                {
                  "0": "2nd Grade Class",
                  "1": "6c21e07e-39ab-409c-9752-9eb0b6a573c7",
                  "2": "Hunt Elementary",
                  "3": "66c877df-17ef-4ea7-a25d-9049423ae59b",
                  "4": "Elementary School",
                  "5": "General Elementary Education",
                  "6": "2"
                },
                {
                  "0": "3rd Grade Class",
                  "1": "28918e2e-f4a4-46fa-ac6e-b2ffca35e479",
                  "2": "Hunt Elementary",
                  "3": "66c877df-17ef-4ea7-a25d-9049423ae59b",
                  "4": "Elementary School",
                  "5": "General Elementary Education",
                  "6": "3"
                },
                {
                  "0": "4th Grade Class",
                  "1": "3bac926c-33c9-4ee6-b281-2019c38b1c3c",
                  "2": "Hunt Elementary",
                  "3": "66c877df-17ef-4ea7-a25d-9049423ae59b",
                  "4": "Elementary School",
                  "5": "General Elementary Education",
                  "6": "4"
                },
                {
                  "0": "5th Grade Class",
                  "1": "ab4f7ee8-7dc1-4588-bdcf-1498eb28cce3",
                  "2": "Hunt Elementary",
                  "3": "66c877df-17ef-4ea7-a25d-9049423ae59b",
                  "4": "Elementary School",
                  "5": "General Elementary Education",
                  "6": "5"
                }
              ],
              "schema": [
                {
                  "key": "0",
                  "name": "CourseName",
                  "type": "string"
                },
                {
                  "key": "1",
                  "name": "CourseID",
                  "type": "string"
                },
                {
                  "key": "2",
                  "name": "SchoolName",
                  "type": "string"
                },
                {
                  "key": "3",
                  "name": "SchoolID",
                  "type": "string"
                },
                {
                  "key": "4",
                  "name": "SchoolType",
                  "type": "string"
                },
                {
                  "key": "5",
                  "name": "CourseSubject",
                  "type": "string"
                },
                {
                  "key": "6",
                  "name": "CourseGradeLevel",
                  "type": "string"
                }
              ],
              "truncated": false
            },
            "isSummary": false,
            "language": "scala"
          },
          "persist_state": {
            "view": {
              "type": "details",
              "tableOptions": {},
              "chartOptions": {
                "chartType": "bar",
                "aggregationType": "count",
                "categoryFieldKeys": [
                  "0"
                ],
                "seriesFieldKeys": [
                  "0"
                ],
                "isStacked": false
              }
            }
          }
        },
        "59dc061f-5acc-4196-8a79-76fb35ea5b33": {
          "type": "Synapse.DataFrame",
          "sync_state": {
            "table": {
              "rows": [
                {
                  "0": "Trigonomotry 168",
                  "1": "aee17523-3b8a-42d7-afb5-54f67feafe9b",
                  "2": "Trigonomotry",
                  "3": "a5a9b02a-6eea-4dff-b0a3-4c43cc271adc",
                  "4": "Salas High",
                  "5": "df7a9ccc-0d60-4bd9-93dc-1cb7bba80f4b",
                  "6": "High School",
                  "7": "Mathematics",
                  "8": "0"
                },
                {
                  "0": "Trigonomotry 182",
                  "1": "df36d0fb-b413-4d5d-9d2c-232c7807c24e",
                  "2": "Trigonomotry",
                  "3": "a5a9b02a-6eea-4dff-b0a3-4c43cc271adc",
                  "4": "Salas High",
                  "5": "df7a9ccc-0d60-4bd9-93dc-1cb7bba80f4b",
                  "6": "High School",
                  "7": "Mathematics",
                  "8": "0"
                },
                {
                  "0": "Pre-Calculus 286",
                  "1": "ed1ebb5c-6a92-4cfe-87b4-66e35c9dc87d",
                  "2": "Pre-Calculus",
                  "3": "fb9bbe5a-ab18-498e-b623-9576e2c617d6",
                  "4": "Salas High",
                  "5": "df7a9ccc-0d60-4bd9-93dc-1cb7bba80f4b",
                  "6": "High School",
                  "7": "Mathematics",
                  "8": "11"
                },
                {
                  "0": "Calculus 112",
                  "1": "dc268312-1088-47e5-b6f5-f5a058f6f2ce",
                  "2": "Calculus",
                  "3": "a33d635e-fa2d-48b9-ae80-8fffee115695",
                  "4": "Salas High",
                  "5": "df7a9ccc-0d60-4bd9-93dc-1cb7bba80f4b",
                  "6": "High School",
                  "7": "Mathematics",
                  "8": "12"
                },
                {
                  "0": "Choir 282",
                  "1": "9f0fcd81-32c0-44d3-93b5-a3e01b0e2451",
                  "2": "Choir",
                  "3": "3ef99deb-6a27-450c-9fa7-8ca3f1e0db91",
                  "4": "Salas High",
                  "5": "df7a9ccc-0d60-4bd9-93dc-1cb7bba80f4b",
                  "6": "High School",
                  "7": "Visual and Performing Arts",
                  "8": "0"
                },
                {
                  "0": "Band 187",
                  "1": "f1f1954e-5d83-4975-9ceb-5f2a0a25d195",
                  "2": "Band",
                  "3": "3f346cac-bfe1-41a1-89af-f2859fbf8bbc",
                  "4": "Salas High",
                  "5": "df7a9ccc-0d60-4bd9-93dc-1cb7bba80f4b",
                  "6": "High School",
                  "7": "Visual and Performing Arts",
                  "8": "0"
                },
                {
                  "0": "Band 263",
                  "1": "9b8c8277-e20f-4df2-aefc-067c02110306",
                  "2": "Band",
                  "3": "3f346cac-bfe1-41a1-89af-f2859fbf8bbc",
                  "4": "Salas High",
                  "5": "df7a9ccc-0d60-4bd9-93dc-1cb7bba80f4b",
                  "6": "High School",
                  "7": "Visual and Performing Arts",
                  "8": "0"
                },
                {
                  "0": "Orchestra 164",
                  "1": "8dfbe1e9-190e-4171-8cce-070644ba78bb",
                  "2": "Orchestra",
                  "3": "454f7207-4703-44ec-9b1c-5f94cd862d9a",
                  "4": "Salas High",
                  "5": "df7a9ccc-0d60-4bd9-93dc-1cb7bba80f4b",
                  "6": "High School",
                  "7": "Visual and Performing Arts",
                  "8": "0"
                },
                {
                  "0": "Orchestra 160",
                  "1": "0d6ace97-70a9-449d-b84b-e83b239b56d3",
                  "2": "Orchestra",
                  "3": "454f7207-4703-44ec-9b1c-5f94cd862d9a",
                  "4": "Salas High",
                  "5": "df7a9ccc-0d60-4bd9-93dc-1cb7bba80f4b",
                  "6": "High School",
                  "7": "Visual and Performing Arts",
                  "8": "0"
                },
                {
                  "0": "Reading 214",
                  "1": "9a4c897c-21dd-464f-854f-071606e002df",
                  "2": "Reading",
                  "3": "d1c735b5-72e1-428a-b862-61286aceeea0",
                  "4": "Salas High",
                  "5": "df7a9ccc-0d60-4bd9-93dc-1cb7bba80f4b",
                  "6": "High School",
                  "7": "English Language and Literature",
                  "8": "0"
                }
              ],
              "schema": [
                {
                  "key": "0",
                  "name": "SectionName",
                  "type": "string"
                },
                {
                  "key": "1",
                  "name": "SectionID",
                  "type": "string"
                },
                {
                  "key": "2",
                  "name": "CourseName",
                  "type": "string"
                },
                {
                  "key": "3",
                  "name": "CourseID",
                  "type": "string"
                },
                {
                  "key": "4",
                  "name": "SchoolName",
                  "type": "string"
                },
                {
                  "key": "5",
                  "name": "SchoolID",
                  "type": "string"
                },
                {
                  "key": "6",
                  "name": "SchoolType",
                  "type": "string"
                },
                {
                  "key": "7",
                  "name": "SectionSubject",
                  "type": "string"
                },
                {
                  "key": "8",
                  "name": "SectionGradeLevel",
                  "type": "string"
                }
              ],
              "truncated": false
            },
            "isSummary": false,
            "language": "scala"
          },
          "persist_state": {
            "view": {
              "type": "details",
              "tableOptions": {},
              "chartOptions": {
                "chartType": "bar",
                "aggregationType": "count",
                "categoryFieldKeys": [
                  "0"
                ],
                "seriesFieldKeys": [
                  "0"
                ],
                "isStacked": false
              }
            }
          }
        },
        "28b16c94-1f59-4507-acab-77fd5d9798e0": {
          "type": "Synapse.DataFrame",
          "sync_state": {
            "table": {
              "rows": [
                {
                  "0": "Amy Craig",
                  "1": "75af8741-7e04-4bb7-b73f-69ee06a56598",
                  "2": "Art 190",
                  "3": "00d1df69-6459-4ff2-922f-92aa7e2dafe0",
                  "4": "Art",
                  "5": "eecfef58-682c-40d8-8471-e23fc571d06f",
                  "6": "0",
                  "7": "Dennis Middle",
                  "8": "484c0d3b-7d5e-4026-bd63-2556ed7042ab"
                },
                {
                  "0": "Amy Craig",
                  "1": "75af8741-7e04-4bb7-b73f-69ee06a56598",
                  "2": "Advanced ELA 106",
                  "3": "3e2297e2-25e4-496d-a3f0-80c3127d9d8b",
                  "4": "Advanced ELA",
                  "5": "b6f54364-ecc4-46f7-861b-966a9ef9a67f",
                  "6": "0",
                  "7": "Dennis Middle",
                  "8": "484c0d3b-7d5e-4026-bd63-2556ed7042ab"
                },
                {
                  "0": "Amy Craig",
                  "1": "75af8741-7e04-4bb7-b73f-69ee06a56598",
                  "2": "Physical Education 220",
                  "3": "4dea5319-c73d-467b-80bc-fb86db404ac8",
                  "4": "Physical Education",
                  "5": "12944825-d7e3-422d-ab4f-10cb1732ee68",
                  "6": "0",
                  "7": "Dennis Middle",
                  "8": "484c0d3b-7d5e-4026-bd63-2556ed7042ab"
                },
                {
                  "0": "Amy Craig",
                  "1": "75af8741-7e04-4bb7-b73f-69ee06a56598",
                  "2": "Theatre 214",
                  "3": "b2ad62cb-c10d-4a13-a36f-42557d809890",
                  "4": "Theatre",
                  "5": "7a69948e-f564-4dd9-b3b9-1b5a9072ace0",
                  "6": "0",
                  "7": "Dennis Middle",
                  "8": "484c0d3b-7d5e-4026-bd63-2556ed7042ab"
                },
                {
                  "0": "Amy Craig",
                  "1": "75af8741-7e04-4bb7-b73f-69ee06a56598",
                  "2": "Pre-Algebra 190",
                  "3": "68c116a8-398e-480d-96af-d1cc6c3f1e21",
                  "4": "Pre-Algebra",
                  "5": "dc7d23c2-0a83-42fd-b757-fe51eba142d3",
                  "6": "6",
                  "7": "Dennis Middle",
                  "8": "484c0d3b-7d5e-4026-bd63-2556ed7042ab"
                },
                {
                  "0": "Amy Craig",
                  "1": "75af8741-7e04-4bb7-b73f-69ee06a56598",
                  "2": "Remedial Math 172",
                  "3": "a2df4239-419f-49a4-a6cf-1ab9f7ddbcec",
                  "4": "Remedial Math",
                  "5": "7ec211aa-0a88-4fe7-b365-cfe3bcb51cc4",
                  "6": "0",
                  "7": "Dennis Middle",
                  "8": "484c0d3b-7d5e-4026-bd63-2556ed7042ab"
                },
                {
                  "0": "Joel Smith",
                  "1": "d85255f1-aa0e-4f66-bf4f-4e27f6f40815",
                  "2": "World History 188",
                  "3": "0f83af31-dae0-45a4-b5c2-ea987d7cab03",
                  "4": "World History",
                  "5": "77240cd1-9868-486d-8c1c-70a680a50e0e",
                  "6": "11",
                  "7": "Salas High",
                  "8": "df7a9ccc-0d60-4bd9-93dc-1cb7bba80f4b"
                },
                {
                  "0": "Joel Smith",
                  "1": "d85255f1-aa0e-4f66-bf4f-4e27f6f40815",
                  "2": "Choir 282",
                  "3": "9f0fcd81-32c0-44d3-93b5-a3e01b0e2451",
                  "4": "Choir",
                  "5": "3ef99deb-6a27-450c-9fa7-8ca3f1e0db91",
                  "6": "0",
                  "7": "Salas High",
                  "8": "df7a9ccc-0d60-4bd9-93dc-1cb7bba80f4b"
                },
                {
                  "0": "Joel Smith",
                  "1": "d85255f1-aa0e-4f66-bf4f-4e27f6f40815",
                  "2": "Trigonomotry 182",
                  "3": "df36d0fb-b413-4d5d-9d2c-232c7807c24e",
                  "4": "Trigonomotry",
                  "5": "a5a9b02a-6eea-4dff-b0a3-4c43cc271adc",
                  "6": "0",
                  "7": "Salas High",
                  "8": "df7a9ccc-0d60-4bd9-93dc-1cb7bba80f4b"
                },
                {
                  "0": "Joel Smith",
                  "1": "d85255f1-aa0e-4f66-bf4f-4e27f6f40815",
                  "2": "World Literature 250",
                  "3": "b04db3e1-160a-4a73-90b2-88a1fde799e2",
                  "4": "World Literature",
                  "5": "74bc6159-5e15-4cd7-88f3-6a5ab95537b3",
                  "6": "11",
                  "7": "Salas High",
                  "8": "df7a9ccc-0d60-4bd9-93dc-1cb7bba80f4b"
                }
              ],
              "schema": [
                {
                  "key": "0",
                  "name": "StudentName",
                  "type": "string"
                },
                {
                  "key": "1",
                  "name": "StudentID",
                  "type": "string"
                },
                {
                  "key": "2",
                  "name": "SectionName",
                  "type": "string"
                },
                {
                  "key": "3",
                  "name": "SectionID",
                  "type": "string"
                },
                {
                  "key": "4",
                  "name": "CourseName",
                  "type": "string"
                },
                {
                  "key": "5",
                  "name": "CourseID",
                  "type": "string"
                },
                {
                  "key": "6",
                  "name": "CourseGradeLevel",
                  "type": "string"
                },
                {
                  "key": "7",
                  "name": "SchoolName",
                  "type": "string"
                },
                {
                  "key": "8",
                  "name": "SchoolID",
                  "type": "string"
                }
              ],
              "truncated": false
            },
            "isSummary": false,
            "language": "scala"
          },
          "persist_state": {
            "view": {
              "type": "details",
              "tableOptions": {},
              "chartOptions": {
                "chartType": "bar",
                "aggregationType": "count",
                "categoryFieldKeys": [
                  "0"
                ],
                "seriesFieldKeys": [
                  "0"
                ],
                "isStacked": false
              }
            }
          }
        }
      }
    }
  },
  "nbformat": 4,
  "nbformat_minor": 2
}