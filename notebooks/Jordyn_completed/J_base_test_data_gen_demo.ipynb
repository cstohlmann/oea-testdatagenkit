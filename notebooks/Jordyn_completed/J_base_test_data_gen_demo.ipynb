{
  "nbformat": 4,
  "nbformat_minor": 2,
  "metadata": {
    "kernelspec": {
      "name": "synapse_pyspark",
      "display_name": "Synapse PySpark"
    },
    "language_info": {
      "name": "python"
    },
    "description": null,
    "save_output": true,
    "synapse_widget": {
      "version": "0.1",
      "state": {}
    }
  },
  "cells": [
    {
      "cell_type": "markdown",
      "metadata": {
        "nteract": {
          "transient": {
            "deleting": false
          }
        }
      },
      "source": [
        "# Test Data Generation: Base-Truth Tables Demonstration Notebook\r\n",
        "\r\n",
        "**Author**: *Jordyn Leonauskas (minor updates by Christian)*. **Affiliation**: *Kwantum Edu Analytics*. **Last Modified**: *2/3/2023*.\r\n",
        "\r\n",
        "This OEA test data generation notebook illustrates use of the OEA_py and J_base_test_data_gen_py python classes for creating and developing base-truth table test data in stage1.\r\n",
        "\r\n",
        "Use the main function outlined in the J_base_test_data_gen_py class notebook ```genbasetables(numstudents, numschools, numcourses)``` to create test data for the base-truth tables.\r\n",
        "\r\n",
        "Currently only generates high school-simulated base-truth tables."
      ]
    },
    {
      "cell_type": "code",
      "execution_count": 1,
      "outputs": [
        {
          "output_type": "display_data",
          "data": {
            "application/vnd.livy.statement-meta+json": {
              "spark_pool": null,
              "session_id": "8",
              "statement_id": -1,
              "state": "finished",
              "livy_statement_state": "available",
              "queued_time": "2023-02-03T23:12:04.9883159Z",
              "session_start_time": null,
              "execution_start_time": "2023-02-03T23:15:57.3634432Z",
              "execution_finish_time": "2023-02-03T23:15:57.3636848Z",
              "spark_jobs": null
            },
            "text/plain": "StatementMeta(, 8, -1, Finished, Available)"
          },
          "metadata": {}
        },
        {
          "output_type": "stream",
          "name": "stdout",
          "text": [
            "2023-02-03 23:15:56,913 - OEA - INFO - Now using workspace: dev\n2023-02-03 23:15:56,914 - OEA - INFO - OEA initialized.\n"
          ]
        }
      ],
      "metadata": {
        "jupyter": {
          "source_hidden": false,
          "outputs_hidden": false
        },
        "nteract": {
          "transient": {
            "deleting": false
          }
        }
      },
      "source": [
        "%run OEA_py"
      ]
    },
    {
      "cell_type": "code",
      "execution_count": 2,
      "outputs": [
        {
          "output_type": "display_data",
          "data": {
            "application/vnd.livy.statement-meta+json": {
              "spark_pool": "spark3p2medTDG",
              "session_id": "8",
              "statement_id": 2,
              "state": "finished",
              "livy_statement_state": "available",
              "queued_time": "2023-02-03T23:12:06.902175Z",
              "session_start_time": null,
              "execution_start_time": "2023-02-03T23:15:57.4814348Z",
              "execution_finish_time": "2023-02-03T23:15:57.6374466Z",
              "spark_jobs": null
            },
            "text/plain": "StatementMeta(spark3p2medTDG, 8, 2, Finished, Available)"
          },
          "metadata": {}
        },
        {
          "output_type": "stream",
          "name": "stdout",
          "text": [
            "2023-02-03 23:15:57,464 - OEA - INFO - Now using workspace: dev\n"
          ]
        }
      ],
      "metadata": {
        "jupyter": {
          "source_hidden": false,
          "outputs_hidden": false
        },
        "nteract": {
          "transient": {
            "deleting": false
          }
        }
      },
      "source": [
        "# set the workspace (this determines where in the data lake you'll be writing to and reading from).\r\n",
        "# You can work in 'dev', 'prod', or a sandbox with any name you choose.\r\n",
        "# For example, Sam the developer can create a 'sam' workspace and expect to find his datasets in the data lake under oea/sandboxes/sam\r\n",
        "oea.set_workspace('dev')"
      ]
    },
    {
      "cell_type": "code",
      "execution_count": 13,
      "outputs": [
        {
          "output_type": "display_data",
          "data": {
            "application/vnd.livy.statement-meta+json": {
              "spark_pool": null,
              "session_id": "8",
              "statement_id": -1,
              "state": "finished",
              "livy_statement_state": "available",
              "queued_time": "2023-02-03T23:29:29.1838103Z",
              "session_start_time": null,
              "execution_start_time": "2023-02-03T23:29:29.6200249Z",
              "execution_finish_time": "2023-02-03T23:29:29.6202783Z",
              "spark_jobs": null
            },
            "text/plain": "StatementMeta(, 8, -1, Finished, Available)"
          },
          "metadata": {}
        }
      ],
      "metadata": {
        "jupyter": {
          "source_hidden": false,
          "outputs_hidden": false
        },
        "nteract": {
          "transient": {
            "deleting": false
          }
        }
      },
      "source": [
        "%run /J_base_test_data_gen_py"
      ]
    },
    {
      "cell_type": "code",
      "execution_count": 14,
      "outputs": [
        {
          "output_type": "display_data",
          "data": {
            "application/vnd.livy.statement-meta+json": {
              "spark_pool": "spark3p2medTDG",
              "session_id": "8",
              "statement_id": 14,
              "state": "finished",
              "livy_statement_state": "available",
              "queued_time": "2023-02-03T23:29:31.1028176Z",
              "session_start_time": null,
              "execution_start_time": "2023-02-03T23:29:31.2143931Z",
              "execution_finish_time": "2023-02-03T23:29:31.4203321Z",
              "spark_jobs": null
            },
            "text/plain": "StatementMeta(spark3p2medTDG, 8, 14, Finished, Available)"
          },
          "metadata": {}
        }
      ],
      "metadata": {
        "jupyter": {
          "source_hidden": false,
          "outputs_hidden": false
        },
        "nteract": {
          "transient": {
            "deleting": false
          }
        }
      },
      "source": [
        "datagen = TestDataGen()"
      ]
    },
    {
      "cell_type": "code",
      "execution_count": 15,
      "outputs": [
        {
          "output_type": "display_data",
          "data": {
            "application/vnd.livy.statement-meta+json": {
              "spark_pool": "spark3p2medTDG",
              "session_id": "8",
              "statement_id": 15,
              "state": "finished",
              "livy_statement_state": "available",
              "queued_time": "2023-02-03T23:29:33.5834662Z",
              "session_start_time": null,
              "execution_start_time": "2023-02-03T23:29:33.6991442Z",
              "execution_finish_time": "2023-02-03T23:30:27.6546906Z",
              "spark_jobs": null
            },
            "text/plain": "StatementMeta(spark3p2medTDG, 8, 15, Finished, Available)"
          },
          "metadata": {}
        }
      ],
      "metadata": {
        "jupyter": {
          "source_hidden": false,
          "outputs_hidden": false
        },
        "nteract": {
          "transient": {
            "deleting": false
          }
        }
      },
      "source": [
        "num_students = 400\r\n",
        "num_schools = 3\r\n",
        "num_courses = 16\r\n",
        "\r\n",
        "datagen.genbasetables(num_students, num_schools, num_courses)"
      ]
    }
  ]
}