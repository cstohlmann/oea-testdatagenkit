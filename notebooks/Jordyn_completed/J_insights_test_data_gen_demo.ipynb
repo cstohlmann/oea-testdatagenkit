{
  "cells": [
    {
      "cell_type": "markdown",
      "source": [
        "# Test Data Generation: Insights Roster Tables Demonstration Notebook\r\n",
        "\r\n",
        "**Author**: *Jordyn Leonauskas (updated by Christian)*. **Affiliation**: *Kwantum Edu Analytics*. **Last Modified**: *2/6/2023*.\r\n",
        "\r\n",
        "This OEA test data generation notebook illustrates use of the OEA_py and J_insights_test_data_gen_py python classes for creating and developing Insights roster-table test data in stage1.\r\n",
        "\r\n",
        "Use the main function outlined in the J_insights_test_data_gen_py class notebook ```genInsights()``` to create test data for the roster tables.\r\n",
        "\r\n",
        "Currently only generates high school-simulated Insights test data."
      ],
      "metadata": {
        "nteract": {
          "transient": {
            "deleting": false
          }
        }
      }
    },
    {
      "cell_type": "code",
      "source": [
        "%run OEA_py"
      ],
      "outputs": [
        {
          "output_type": "display_data",
          "data": {
            "application/vnd.livy.statement-meta+json": {
              "spark_pool": null,
              "session_id": "10",
              "statement_id": -1,
              "state": "finished",
              "livy_statement_state": "available",
              "queued_time": "2023-02-07T00:59:12.6219012Z",
              "session_start_time": null,
              "execution_start_time": "2023-02-07T01:02:53.9344565Z",
              "execution_finish_time": "2023-02-07T01:02:53.9346556Z",
              "spark_jobs": null
            },
            "text/plain": "StatementMeta(, 10, -1, Finished, Available)"
          },
          "metadata": {}
        },
        {
          "output_type": "stream",
          "name": "stdout",
          "text": [
            "2023-02-07 01:02:53,379 - OEA - INFO - Now using workspace: dev\n2023-02-07 01:02:53,380 - OEA - INFO - OEA initialized.\n"
          ]
        }
      ],
      "execution_count": 1,
      "metadata": {
        "jupyter": {
          "source_hidden": false,
          "outputs_hidden": false
        },
        "nteract": {
          "transient": {
            "deleting": false
          }
        }
      }
    },
    {
      "cell_type": "code",
      "source": [
        "# set the workspace (this determines where in the data lake you'll be writing to and reading from).\r\n",
        "# You can work in 'dev', 'prod', or a sandbox with any name you choose.\r\n",
        "# For example, Sam the developer can create a 'sam' workspace and expect to find his datasets in the data lake under oea/sandboxes/sam\r\n",
        "oea.set_workspace('dev')"
      ],
      "outputs": [
        {
          "output_type": "display_data",
          "data": {
            "application/vnd.livy.statement-meta+json": {
              "spark_pool": "spark3p2medTDG",
              "session_id": "10",
              "statement_id": 2,
              "state": "finished",
              "livy_statement_state": "available",
              "queued_time": "2023-02-07T00:59:15.0153129Z",
              "session_start_time": null,
              "execution_start_time": "2023-02-07T01:02:54.0542523Z",
              "execution_finish_time": "2023-02-07T01:02:54.2198659Z",
              "spark_jobs": null
            },
            "text/plain": "StatementMeta(spark3p2medTDG, 10, 2, Finished, Available)"
          },
          "metadata": {}
        },
        {
          "output_type": "stream",
          "name": "stdout",
          "text": [
            "2023-02-07 01:02:54,026 - OEA - INFO - Now using workspace: dev\n"
          ]
        }
      ],
      "execution_count": 2,
      "metadata": {
        "jupyter": {
          "source_hidden": false,
          "outputs_hidden": false
        },
        "nteract": {
          "transient": {
            "deleting": false
          }
        }
      }
    },
    {
      "cell_type": "code",
      "source": [
        "%run /J_insights_test_data_gen_py"
      ],
      "outputs": [
        {
          "output_type": "display_data",
          "data": {
            "application/vnd.livy.statement-meta+json": {
              "spark_pool": null,
              "session_id": "10",
              "statement_id": -1,
              "state": "finished",
              "livy_statement_state": "available",
              "queued_time": "2023-02-07T02:04:23.8441182Z",
              "session_start_time": null,
              "execution_start_time": "2023-02-07T02:04:24.3255712Z",
              "execution_finish_time": "2023-02-07T02:04:24.3258261Z",
              "spark_jobs": null
            },
            "text/plain": "StatementMeta(, 10, -1, Finished, Available)"
          },
          "metadata": {}
        }
      ],
      "execution_count": 24,
      "metadata": {
        "jupyter": {
          "source_hidden": false,
          "outputs_hidden": false
        },
        "nteract": {
          "transient": {
            "deleting": false
          }
        }
      }
    },
    {
      "cell_type": "code",
      "source": [
        "datagen = InsightsDataGen()"
      ],
      "outputs": [
        {
          "output_type": "display_data",
          "data": {
            "application/vnd.livy.statement-meta+json": {
              "spark_pool": "spark3p2medTDG",
              "session_id": "10",
              "statement_id": 24,
              "state": "finished",
              "livy_statement_state": "available",
              "queued_time": "2023-02-07T02:04:25.2494896Z",
              "session_start_time": null,
              "execution_start_time": "2023-02-07T02:04:25.3584055Z",
              "execution_finish_time": "2023-02-07T02:04:28.1284805Z",
              "spark_jobs": null
            },
            "text/plain": "StatementMeta(spark3p2medTDG, 10, 24, Finished, Available)"
          },
          "metadata": {}
        },
        {
          "output_type": "stream",
          "name": "stdout",
          "text": [
            "2023-02-07 02:04:27,568 - OEA - INFO - base_refdef CSV already exists.\n"
          ]
        }
      ],
      "execution_count": 25,
      "metadata": {
        "jupyter": {
          "source_hidden": false,
          "outputs_hidden": false
        },
        "nteract": {
          "transient": {
            "deleting": false
          }
        }
      }
    },
    {
      "cell_type": "code",
      "source": [
        "# depending on sizes of base tables, Insights generation can take up to ~10 min (PersonOrganizationRole and Enrollment table-gen takes the longest)\r\n",
        "datagen.genInsights()"
      ],
      "outputs": [
        {
          "output_type": "display_data",
          "data": {
            "application/vnd.livy.statement-meta+json": {
              "spark_pool": "spark3p2medTDG",
              "session_id": "10",
              "statement_id": 25,
              "state": "finished",
              "livy_statement_state": "available",
              "queued_time": "2023-02-07T02:04:26.4241802Z",
              "session_start_time": null,
              "execution_start_time": "2023-02-07T02:04:28.2643721Z",
              "execution_finish_time": "2023-02-07T02:10:52.1241489Z",
              "spark_jobs": null
            },
            "text/plain": "StatementMeta(spark3p2medTDG, 10, 25, Finished, Available)"
          },
          "metadata": {}
        }
      ],
      "execution_count": 26,
      "metadata": {
        "jupyter": {
          "source_hidden": false,
          "outputs_hidden": false
        },
        "nteract": {
          "transient": {
            "deleting": false
          }
        }
      }
    }
  ],
  "metadata": {
    "kernelspec": {
      "name": "synapse_pyspark",
      "language": "Python",
      "display_name": "Synapse PySpark"
    },
    "language_info": {
      "name": "python"
    },
    "kernel_info": {
      "name": "synapse_pyspark"
    },
    "description": null,
    "save_output": true,
    "synapse_widget": {
      "version": "0.1",
      "state": {}
    }
  },
  "nbformat": 4,
  "nbformat_minor": 2
}