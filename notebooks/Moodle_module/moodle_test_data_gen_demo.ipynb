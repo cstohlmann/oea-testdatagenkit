{
  "cells": [
    {
      "cell_type": "markdown",
      "source": [
        "# Test Data Generation: Moodle Tables Demonstration Notebook\r\n",
        "\r\n",
        "**Affiliation**: *Kwantum Edu Analytics*. **Last Modified**: *3/9/2023*.\r\n",
        "\r\n",
        "This OEA test data generation notebook illustrates use of the OEA_py and moodle_test_data_gen_py python classes for creating and developing Moodle table test data in stage1.\r\n",
        "\r\n",
        "Use the main function outlined in the moodle_test_data_gen_py class notebook ```genMoodle(startdate, enddate, ed_level, gen_activity, num_activity_signals)``` to create test data for the SIS/activity tables."
      ],
      "metadata": {
        "nteract": {
          "transient": {
            "deleting": false
          }
        }
      }
    },
    {
      "cell_type": "code",
      "source": [
        "%run OEA_py"
      ],
      "outputs": [
        {
          "output_type": "display_data",
          "data": {
            "application/vnd.livy.statement-meta+json": {
              "spark_pool": null,
              "session_id": "14",
              "statement_id": -1,
              "state": "finished",
              "livy_statement_state": "available",
              "queued_time": "2023-02-14T18:26:16.6420597Z",
              "session_start_time": null,
              "execution_start_time": "2023-02-14T18:30:06.1800139Z",
              "execution_finish_time": "2023-02-14T18:30:06.1803396Z",
              "spark_jobs": null
            },
            "text/plain": "StatementMeta(, 14, -1, Finished, Available)"
          },
          "metadata": {}
        },
        {
          "output_type": "stream",
          "name": "stdout",
          "text": [
            "2023-02-14 18:30:05,576 - OEA - INFO - Now using workspace: dev\n2023-02-14 18:30:05,577 - OEA - INFO - OEA initialized.\n"
          ]
        }
      ],
      "execution_count": 1,
      "metadata": {
        "jupyter": {
          "source_hidden": false,
          "outputs_hidden": false
        },
        "nteract": {
          "transient": {
            "deleting": false
          }
        }
      }
    },
    {
      "cell_type": "code",
      "source": [
        "# set the workspace (this determines where in the data lake you'll be writing to and reading from).\r\n",
        "# You can work in 'dev', 'prod', or a sandbox with any name you choose.\r\n",
        "# For example, Sam the developer can create a 'sam' workspace and expect to find his datasets in the data lake under oea/sandboxes/sam\r\n",
        "oea.set_workspace('dev')"
      ],
      "outputs": [
        {
          "output_type": "display_data",
          "data": {
            "application/vnd.livy.statement-meta+json": {
              "spark_pool": "spark3p2medTDG",
              "session_id": "14",
              "statement_id": 2,
              "state": "finished",
              "livy_statement_state": "available",
              "queued_time": "2023-02-14T18:26:16.6499848Z",
              "session_start_time": null,
              "execution_start_time": "2023-02-14T18:30:06.3084528Z",
              "execution_finish_time": "2023-02-14T18:30:06.4714419Z",
              "spark_jobs": null
            },
            "text/plain": "StatementMeta(spark3p2medTDG, 14, 2, Finished, Available)"
          },
          "metadata": {}
        },
        {
          "output_type": "stream",
          "name": "stdout",
          "text": [
            "2023-02-14 18:30:06,291 - OEA - INFO - Now using workspace: dev\n"
          ]
        }
      ],
      "execution_count": 2,
      "metadata": {
        "jupyter": {
          "source_hidden": false,
          "outputs_hidden": false
        },
        "nteract": {
          "transient": {
            "deleting": false
          }
        }
      }
    },
    {
      "cell_type": "code",
      "source": [
        "%run /moodle_test_data_gen_py"
      ],
      "outputs": [
        {
          "output_type": "display_data",
          "data": {
            "application/vnd.livy.statement-meta+json": {
              "spark_pool": null,
              "session_id": "14",
              "statement_id": -1,
              "state": "finished",
              "livy_statement_state": "available",
              "queued_time": "2023-02-14T20:05:36.2295819Z",
              "session_start_time": null,
              "execution_start_time": "2023-02-14T20:05:36.8309544Z",
              "execution_finish_time": "2023-02-14T20:05:36.8312974Z",
              "spark_jobs": null
            },
            "text/plain": "StatementMeta(, 14, -1, Finished, Available)"
          },
          "metadata": {}
        }
      ],
      "execution_count": 40,
      "metadata": {
        "jupyter": {
          "source_hidden": false,
          "outputs_hidden": false
        },
        "nteract": {
          "transient": {
            "deleting": false
          }
        }
      }
    },
    {
      "cell_type": "code",
      "source": [
        "datagen = MoodleDataGen()"
      ],
      "outputs": [
        {
          "output_type": "display_data",
          "data": {
            "application/vnd.livy.statement-meta+json": {
              "spark_pool": "spark3p2medTDG",
              "session_id": "14",
              "statement_id": 41,
              "state": "finished",
              "livy_statement_state": "available",
              "queued_time": "2023-02-14T20:05:37.7197734Z",
              "session_start_time": null,
              "execution_start_time": "2023-02-14T20:05:37.8425315Z",
              "execution_finish_time": "2023-02-14T20:05:40.8458608Z",
              "spark_jobs": null
            },
            "text/plain": "StatementMeta(spark3p2medTDG, 14, 41, Finished, Available)"
          },
          "metadata": {}
        },
        {
          "output_type": "stream",
          "name": "stdout",
          "text": [
            "2023-02-14 20:05:39,946 - OEA - INFO - base_refdef CSV already exists.\n"
          ]
        }
      ],
      "execution_count": 41,
      "metadata": {
        "jupyter": {
          "source_hidden": false,
          "outputs_hidden": false
        },
        "nteract": {
          "transient": {
            "deleting": false
          }
        }
      }
    },
    {
      "cell_type": "code",
      "source": [
        "# depending on sizes of base tables, Insights generation can take up to 10 min (PersonOrganizationRole and Enrollment table-gen takes the longest)\r\n",
        "\r\n",
        "start_date = '2022-01-01T00:00:00' # roster start date\r\n",
        "end_date = '2022-06-01T00:00:00' # roster end date\r\n",
        "education_level = 'hed' # <- options are 'k12' or 'hed'; generated from the base tables\r\n",
        "generate_activity_data = True # <- choose whether you'd like to generate Insights activity data (NOTE: may require some work to accurately mirror activity data).\r\n",
        "number_of_activity_signals = 20 # <- choose how many rows of student activity data you'd like to generate (NOTE: students/classes are chosen at random).\r\n",
        "\r\n",
        "datagen.genMoodle(start_date, end_date, education_level, generate_activity_data, number_of_activity_signals)"
      ],
      "outputs": [
        {
          "output_type": "display_data",
          "data": {
            "application/vnd.livy.statement-meta+json": {
              "spark_pool": "spark3p2medTDG",
              "session_id": "14",
              "statement_id": 42,
              "state": "finished",
              "livy_statement_state": "available",
              "queued_time": "2023-02-14T20:05:40.390852Z",
              "session_start_time": null,
              "execution_start_time": "2023-02-14T20:05:40.9889729Z",
              "execution_finish_time": "2023-02-14T20:08:50.5131633Z",
              "spark_jobs": null
            },
            "text/plain": "StatementMeta(spark3p2medTDG, 14, 42, Finished, Available)"
          },
          "metadata": {}
        },
        {
          "output_type": "stream",
          "name": "stdout",
          "text": [
            "2023-02-14 20:08:49,241 - OEA - INFO - Finished Insights generation.\n"
          ]
        }
      ],
      "execution_count": 42,
      "metadata": {
        "jupyter": {
          "source_hidden": false,
          "outputs_hidden": false
        },
        "nteract": {
          "transient": {
            "deleting": false
          }
        }
      }
    },
    {
      "cell_type": "code",
      "source": [
        "dfActivity = oea.load_csv('stage1/Transactional/test_data/v0.1/M365_gen/Activity/snapshot_batch_data/*/*.csv', header=False)\r\n",
        "display(dfActivity.limit(10))"
      ],
      "outputs": [
        {
          "output_type": "display_data",
          "data": {
            "application/vnd.livy.statement-meta+json": {
              "spark_pool": "spark3p2medTDG",
              "session_id": "14",
              "statement_id": 43,
              "state": "finished",
              "livy_statement_state": "available",
              "queued_time": "2023-02-14T20:08:59.5219954Z",
              "session_start_time": null,
              "execution_start_time": "2023-02-14T20:08:59.6415466Z",
              "execution_finish_time": "2023-02-14T20:09:00.7456099Z",
              "spark_jobs": null
            },
            "text/plain": "StatementMeta(spark3p2medTDG, 14, 43, Finished, Available)"
          },
          "metadata": {}
        },
        {
          "output_type": "display_data",
          "data": {
            "application/vnd.synapse.widget-view+json": {
              "widget_id": "fbf9f41e-76c2-471e-b8ae-fed459999e78",
              "widget_type": "Synapse.DataFrame"
            },
            "text/plain": "SynapseWidget(Synapse.DataFrame, fbf9f41e-76c2-471e-b8ae-fed459999e78)"
          },
          "metadata": {}
        }
      ],
      "execution_count": 43,
      "metadata": {
        "jupyter": {
          "source_hidden": false,
          "outputs_hidden": false
        },
        "nteract": {
          "transient": {
            "deleting": false
          }
        },
        "collapsed": false
      }
    }
  ],
  "metadata": {
    "kernelspec": {
      "name": "synapse_pyspark",
      "display_name": "Synapse PySpark"
    },
    "language_info": {
      "name": "python"
    },
    "description": null,
    "save_output": true,
    "synapse_widget": {
      "version": "0.1",
      "state": {
        "fbf9f41e-76c2-471e-b8ae-fed459999e78": {
          "type": "Synapse.DataFrame",
          "sync_state": {
            "table": {
              "rows": [
                {
                  "0": "VisitTeamChannel",
                  "1": "2022-01-23T17:53:00Z",
                  "3": "6aa49d71-13c9-4504-87ca-b22000450fe6",
                  "5": "0d6dac18-e0e6-4029-8eb7-98dbaa13ab7f",
                  "7": "Teams",
                  "8": "43f04c71-ab29-4bfd-9e6a-d57a5c1c38ea",
                  "9": "Student",
                  "10": "1.14",
                  "16": "2022-01-03"
                },
                {
                  "0": "SubmissionEvent",
                  "1": "2022-01-24T20:07:00Z",
                  "3": "1ae7f5bf-8f68-420f-a909-c9fa6ed6a3be",
                  "5": "f8380dd9-b181-443c-bbff-3767e079e466",
                  "7": "Assignments",
                  "8": "0188578a-3f47-40cd-9da9-e95fbbc3d102",
                  "9": "Student",
                  "10": "1.14",
                  "11": "3b126eb7-70b5-4770-8a17-d72049ac895b",
                  "12": "b4f29f49-6624-468d-b73e-a640e8ad624f",
                  "13": "2022-01-24 20:07:00",
                  "14": "Submitted",
                  "15": "2022-01-25 20:07:00",
                  "16": "2022-01-03",
                  "18": "pptx"
                },
                {
                  "0": "OneNotePageChanged",
                  "1": "2022-01-06T23:03:00Z",
                  "3": "508cc93c-ff31-45d5-b672-7009b55a779d",
                  "5": "39fb8d24-1585-447c-86d1-6637678a75f8",
                  "7": "OneNote",
                  "8": "87ca9bdf-03f9-4a26-8900-81f3e25143ce",
                  "9": "Student",
                  "10": "1.14",
                  "16": "2022-01-03"
                },
                {
                  "0": "FileModified",
                  "1": "2022-01-12T09:34:00Z",
                  "3": "fd1d7346-421b-4538-8167-d7a49fc74366",
                  "5": "747ffe48-2d44-48fc-9d57-ab70de92e741",
                  "7": "SharePoint Online",
                  "8": "b827b4d7-2cbf-4d88-844d-98ae26c4d428",
                  "9": "Student",
                  "10": "1.14",
                  "16": "2022-01-03",
                  "18": "docx"
                },
                {
                  "0": "SubmissionEvent",
                  "1": "2022-01-09T07:22:00Z",
                  "3": "ce2807c4-4c36-4647-af17-760b1e03586a",
                  "5": "52fed5ca-7277-4c73-9306-435269530036",
                  "7": "Assignments",
                  "8": "5902d4fb-42d9-4523-be88-971dc8a4858d",
                  "9": "Student",
                  "10": "1.14",
                  "11": "1e16515d-39a4-416d-a733-07a7e6333bf5",
                  "12": "7aa4311d-09f3-4a61-a038-f967feb6b825",
                  "13": "2022-01-09 07:22:00",
                  "14": "Submitted",
                  "15": "2022-01-10 07:22:00",
                  "16": "2022-01-03",
                  "18": "pptx"
                },
                {
                  "0": "ReplyChannelMessage",
                  "1": "2022-01-09T12:01:00Z",
                  "3": "428fd9f1-a6b9-46a7-bf1a-be990067877e",
                  "5": "93d4d472-ff0a-40da-8154-24a9f51c2f52",
                  "7": "Teams",
                  "8": "f6dae834-988e-4ef6-8dd6-daa66cf052cf",
                  "9": "Student",
                  "10": "1.14",
                  "16": "2022-01-03"
                },
                {
                  "0": "PostChannelMessage",
                  "1": "2022-01-07T02:08:00Z",
                  "3": "064239cd-e63e-4ca0-bb35-98f0f0a9ce03",
                  "5": "968903e8-f78f-413a-bcea-6b556f4291dc",
                  "7": "Teams",
                  "8": "5ff4c904-41d3-4326-a56c-0cdc7876db3e",
                  "9": "Student",
                  "10": "1.14",
                  "16": "2022-01-03"
                },
                {
                  "0": "PostChannelMessage",
                  "1": "2022-01-04T06:49:00Z",
                  "3": "ada7e979-c003-4609-a968-43fc1faf1bdf",
                  "5": "968903e8-f78f-413a-bcea-6b556f4291dc",
                  "7": "Teams",
                  "8": "5f8f8311-ebbf-4431-9740-0947dde63cb8",
                  "9": "Student",
                  "10": "1.14",
                  "16": "2022-01-03"
                },
                {
                  "0": "FileDownloaded",
                  "1": "2022-01-10T10:21:00Z",
                  "3": "6ce27774-a5a3-429e-abff-aebb4d94f21a",
                  "5": "350947be-234e-43f9-8bbc-f37c61543e0e",
                  "7": "SharePoint Online",
                  "8": "64643d87-6df5-49f4-a191-76336e80d4ea",
                  "9": "Student",
                  "10": "1.14",
                  "16": "2022-01-03",
                  "18": "pptx"
                },
                {
                  "0": "ExpandChannelMessage",
                  "1": "2022-01-12T12:06:00Z",
                  "3": "ec7b421d-5adf-48c4-a80c-98be0a5cdaa8",
                  "5": "fb859e56-bc30-40fe-ace5-10d1e03ea419",
                  "7": "TeamsMobile",
                  "8": "6fa92ee7-f825-4d54-a179-d273eb0dbd76",
                  "9": "Student",
                  "10": "1.14",
                  "16": "2022-01-03"
                }
              ],
              "schema": [
                {
                  "key": "0",
                  "name": "_c0",
                  "type": "string"
                },
                {
                  "key": "1",
                  "name": "_c1",
                  "type": "string"
                },
                {
                  "key": "2",
                  "name": "_c2",
                  "type": "string"
                },
                {
                  "key": "3",
                  "name": "_c3",
                  "type": "string"
                },
                {
                  "key": "4",
                  "name": "_c4",
                  "type": "string"
                },
                {
                  "key": "5",
                  "name": "_c5",
                  "type": "string"
                },
                {
                  "key": "6",
                  "name": "_c6",
                  "type": "string"
                },
                {
                  "key": "7",
                  "name": "_c7",
                  "type": "string"
                },
                {
                  "key": "8",
                  "name": "_c8",
                  "type": "string"
                },
                {
                  "key": "9",
                  "name": "_c9",
                  "type": "string"
                },
                {
                  "key": "10",
                  "name": "_c10",
                  "type": "string"
                },
                {
                  "key": "11",
                  "name": "_c11",
                  "type": "string"
                },
                {
                  "key": "12",
                  "name": "_c12",
                  "type": "string"
                },
                {
                  "key": "13",
                  "name": "_c13",
                  "type": "string"
                },
                {
                  "key": "14",
                  "name": "_c14",
                  "type": "string"
                },
                {
                  "key": "15",
                  "name": "_c15",
                  "type": "string"
                },
                {
                  "key": "16",
                  "name": "_c16",
                  "type": "string"
                },
                {
                  "key": "17",
                  "name": "_c17",
                  "type": "string"
                },
                {
                  "key": "18",
                  "name": "_c18",
                  "type": "string"
                },
                {
                  "key": "19",
                  "name": "_c19",
                  "type": "string"
                },
                {
                  "key": "20",
                  "name": "_c20",
                  "type": "string"
                },
                {
                  "key": "21",
                  "name": "_c21",
                  "type": "string"
                },
                {
                  "key": "22",
                  "name": "_c22",
                  "type": "string"
                },
                {
                  "key": "23",
                  "name": "_c23",
                  "type": "string"
                },
                {
                  "key": "24",
                  "name": "_c24",
                  "type": "string"
                },
                {
                  "key": "25",
                  "name": "_c25",
                  "type": "string"
                },
                {
                  "key": "26",
                  "name": "_c26",
                  "type": "string"
                },
                {
                  "key": "27",
                  "name": "_c27",
                  "type": "string"
                },
                {
                  "key": "28",
                  "name": "_c28",
                  "type": "string"
                },
                {
                  "key": "29",
                  "name": "_c29",
                  "type": "string"
                },
                {
                  "key": "30",
                  "name": "_c30",
                  "type": "string"
                },
                {
                  "key": "31",
                  "name": "_c31",
                  "type": "string"
                }
              ],
              "truncated": false
            },
            "isSummary": false,
            "language": "scala"
          },
          "persist_state": {
            "view": {
              "type": "details",
              "tableOptions": {},
              "chartOptions": {
                "chartType": "bar",
                "aggregationType": "count",
                "categoryFieldKeys": [
                  "0"
                ],
                "seriesFieldKeys": [
                  "0"
                ],
                "isStacked": false
              }
            }
          }
        }
      }
    }
  },
  "nbformat": 4,
  "nbformat_minor": 2
}